{
 "cells": [
  {
   "cell_type": "markdown",
   "metadata": {},
   "source": [
    "## Text Suammarization"
   ]
  },
  {
   "cell_type": "code",
   "execution_count": 57,
   "metadata": {},
   "outputs": [],
   "source": [
    "import pandas as pd\n",
    "from nltk.tokenize import sent_tokenize\n",
    "from lexrank import STOPWORDS, LexRank"
   ]
  },
  {
   "cell_type": "code",
   "execution_count": 50,
   "metadata": {},
   "outputs": [],
   "source": [
    "content = pd.read_csv('data/flu_data_topic.csv')"
   ]
  },
  {
   "cell_type": "markdown",
   "metadata": {},
   "source": [
    "### Lex Rank"
   ]
  },
  {
   "cell_type": "code",
   "execution_count": 51,
   "metadata": {},
   "outputs": [],
   "source": [
    "documents = content['Content'].values\n"
   ]
  },
  {
   "cell_type": "code",
   "execution_count": 52,
   "metadata": {},
   "outputs": [],
   "source": [
    "all_tokenized_sentences = [sent_tokenize(str(document)) for document in documents]"
   ]
  },
  {
   "cell_type": "code",
   "execution_count": 53,
   "metadata": {},
   "outputs": [
    {
     "data": {
      "text/plain": [
       "18"
      ]
     },
     "execution_count": 53,
     "metadata": {},
     "output_type": "execute_result"
    }
   ],
   "source": [
    "len(all_tokenized_sentences)"
   ]
  },
  {
   "cell_type": "code",
   "execution_count": 65,
   "metadata": {},
   "outputs": [
    {
     "name": "stdout",
     "output_type": "stream",
     "text": [
      "[1.27799018 1.32632787 0.87207612 1.52762174 1.00339284 1.18078673\n",
      " 1.32486133 1.34349579 0.82002408 0.92690465 1.0528096  0.86520016\n",
      " 1.41840846 1.57873047 0.80560918 0.90862758 1.33510396 1.0688857\n",
      " 0.88266623 1.13506145 1.68079498 0.76310914 1.14961129 1.3701838\n",
      " 1.12567589 0.43856053 0.86958643 0.29567097 1.68207811 0.96191531\n",
      " 1.13125973 1.02082184 1.35047567 0.68990962 0.62308133 0.92759345\n",
      " 1.54192267 1.15215169 0.72290028 1.63256821 0.48940103 1.11287205\n",
      " 1.06910024 0.92470656 1.30341994 1.38361212 1.47986766 0.9736308\n",
      " 0.76080964 1.61261713 0.48940103 1.11287205 0.86657335 0.99255712\n",
      " 0.9580861  0.80376834 1.44196594 1.1932631  1.07049252 0.58373588\n",
      " 0.8452783  0.48940103 1.08600516 1.20369126 1.43200994 0.80680871\n",
      " 0.85944464 1.07517314 0.76080964 0.97714812 1.69423542 1.31847518\n",
      " 1.09014781 0.81537309 0.40099508 0.95232452 1.39604697 0.41884916\n",
      " 1.37004399 1.06803227 0.07735234 1.17568272 1.22142991 0.3866412\n",
      " 0.80139881 1.16924147 0.87259299 1.06407088 0.79596815 0.66292965\n",
      " 1.37178948 1.07878039 1.09014781 0.64713118 1.14320134 0.67440796\n",
      " 0.78409242 1.22648406 1.39407002 0.71336266 0.90292414 0.94625438\n",
      " 0.90407955 1.00903353 1.34349579 0.26694669 0.79176009 1.46703605\n",
      " 0.56558113 0.67174529 0.70531223 1.08225884 0.99531689 0.81920317\n",
      " 0.32886343 0.97009327 0.81738273 1.28771128 0.65640871 1.23470206\n",
      " 0.65815702 1.34784521 1.09077128 1.36929522 0.82378025 1.08493744\n",
      " 1.69115986 0.07735234 0.88889665 1.22073396 1.35585417 0.91205611\n",
      " 1.25055388 0.93681866 0.49150101 1.50759042 0.12397842 0.57360137\n",
      " 1.17773371 1.6144533  1.42323278 0.65241209 1.1730053  1.29206263\n",
      " 1.6561139  1.74522701 1.5624654  0.72395055 1.04570222 1.43597501\n",
      " 1.58015844 1.00497632 0.96216441 1.18942173 1.00960683 0.60135612\n",
      " 0.68339264 0.75857281 0.86639127 0.55756786 0.67595159 1.11707553\n",
      " 1.01471013 0.75535412 0.86393185 0.91052744 1.16106508 0.74916731\n",
      " 0.52271119 0.91800954 1.14360697 1.08007214 0.38839658 0.79400203\n",
      " 0.71823135 0.60622386 0.87187135 0.50697664 1.01322608 1.19599524\n",
      " 0.44628082 1.12825584 1.16384804 1.46664174 0.98031786 0.39158377\n",
      " 1.43618306 0.86135224 1.24473085 1.09964216 1.37190083 0.84403923\n",
      " 0.75196742 0.63727097 1.14327461 1.29252001 1.02787314]\n",
      "[1.30102089 1.25235391 1.22047735 0.95975353 0.54174989 1.2342125\n",
      " 1.10165541 0.70112765 1.01293644 1.05829696 0.38433538 1.27761557\n",
      " 0.83024225 1.12422228]\n",
      "[1.10374336 1.05735877 1.23700022 1.19135222 0.91559923 1.27460188\n",
      " 1.23031336 1.29162883 0.88841025 0.58319762 1.18353268 0.8362254\n",
      " 1.07335896 1.08273632 0.51578928 0.80989404 1.05151081 1.47416995\n",
      " 1.14533658 1.29302242 1.09574217 0.9846257  0.66994123 0.74978888\n",
      " 0.55325235 0.95022278 0.75764473]\n",
      "[1.01381924 1.02009325 0.96608752]\n",
      "[0.81150754 1.12326412 0.65440742 0.87210738 1.19632142 0.88225126\n",
      " 1.17540521 1.00788769 1.37613517 0.90071279]\n",
      "[1.19571399 0.38223628 1.20899512 0.95353876 1.03304836 0.79542158\n",
      " 0.9687306  1.05740329 1.51849352 1.02761728 1.07530598 1.25329794\n",
      " 1.15901084 0.31912268 0.96093697 0.18346369 0.74759258 1.4944117\n",
      " 0.97114967 1.00288433 1.12542952 1.15030358 1.19562833 1.19092363\n",
      " 0.83761621 1.08919307 0.48750114 1.07628119 1.44906986 0.46180714\n",
      " 1.41728679 1.12969653 1.0112104  1.16622289 1.09878075 0.90026178\n",
      " 1.03267356 0.76185226 1.22996022 1.11080569 1.11625085 0.70771638\n",
      " 0.55689815 1.21543502 0.98189629 1.19092363]\n",
      "[1.06359143 0.82435268 1.11396594 1.02978254 0.94758566 1.19790555\n",
      " 1.21035299 0.69705518 0.90720448 0.90259237 0.96552935 1.16892563\n",
      " 0.63380466 0.94553382 1.18501989 1.23420102 0.97259681]\n",
      "[0.68355316 0.97343344 0.80690115 1.24414404 1.3876515  1.18975483\n",
      " 1.03581186 0.40465072 1.01396307 1.10257841 1.2614753  1.08113558\n",
      " 0.67465174 0.8001617  0.97088492 1.31728138 1.38543834 1.26907073\n",
      " 0.43117401 1.18000666 0.89057298 1.18905675 1.32415919 0.75143502\n",
      " 0.63105349]\n",
      "[0.98008838 1.03636586 0.72608644 0.77890682 0.80145575 1.13269485\n",
      " 1.0172247  0.67150517 0.8837107  1.20540956 1.0665392  0.82142153\n",
      " 0.95168904 1.28329286 1.12412367 1.29029994 0.84636236 0.80307661\n",
      " 1.22656274 1.21094354 1.38491575 0.73482596 1.32180203 1.25521799\n",
      " 0.77710596 0.61735947 0.90232    0.8020532  1.27617638 1.13197318\n",
      " 0.89860238 0.91670337 1.10503617 0.96317113 1.40655646 1.07361093\n",
      " 0.57480989]\n",
      "[0.71212413 1.26845486 0.95092259 1.03753185 1.18541544 1.05516324\n",
      " 1.180332   0.85590739 1.21421117 0.54763247 1.22027054 0.53335075\n",
      " 0.97741911 1.26363571 0.99762875]\n",
      "[1.36283918 1.08050185 1.24265251 1.20078216 1.27431232 1.30551522\n",
      " 1.12696573 0.93695234 1.12283839 1.31270938 1.21150095 1.60020616\n",
      " 1.12872324 1.22754518 1.09403798 0.95139548 0.86730303 0.74346683\n",
      " 1.19929681 1.21842795 0.8713602  1.2445171  1.0759613  0.65174411\n",
      " 0.74541069 1.17600143 1.1722624  0.53337497 1.04746513 1.0088143\n",
      " 0.44949917 1.00203312 0.50991957 1.28716014 1.4251063  1.0886491\n",
      " 0.78291264 0.0625862  1.26680876 0.97422464 0.58471623 1.29140365\n",
      " 1.0886491  0.98642507 1.40251405 0.46486139 0.61751036 1.44410757\n",
      " 0.62462387 0.59111552 1.15172765 0.09496234 1.09800061 0.17137499\n",
      " 1.57234751 1.44702128 0.68664789 1.04538008 1.5956782  0.99416152\n",
      " 0.93703604 1.30912539 0.82760009 0.97152391 0.54136268 0.82366199\n",
      " 1.34899841 0.71108193 1.4259359  0.52708618 0.93703604 1.26916083\n",
      " 0.59351273 0.7443142  1.08167207 1.73405453 0.52708618 0.81665644\n",
      " 1.5848855  1.13859771 1.06594028 1.00715535 1.24585475 1.1132462\n",
      " 1.15875761 1.46274518 0.84557017 0.82933346 0.69569332 0.86431779\n",
      " 1.28019222 0.95969338 1.12529897 1.02558755 0.64407206 0.71727363\n",
      " 0.57186646]\n",
      "[1.]\n",
      "[1.30793476 1.11573697 1.46067234 1.09610801 1.05524081 1.00566181\n",
      " 1.01707266 1.28976091 0.71141746 1.30042958 0.65339337 0.83805651\n",
      " 1.09506294 0.6129366  1.05600866 0.70284171 0.88510824 0.94418459\n",
      " 0.80819806 1.10782745 0.83854102 1.10914473 0.83013582 1.35203955\n",
      " 1.31553479 0.93718945 1.30866645 0.68758427 1.27193142 1.20803223\n",
      " 0.7997269  0.90883644 0.98815859 0.81845292 0.57081883 1.2189765\n",
      " 0.73231149 1.04026517]\n",
      "[1.06796016 1.02695165 1.15566337 1.01615291 0.77629526 0.85154101\n",
      " 1.10543565]\n",
      "[0.89236422 1.00773618 1.01968183 1.04102655 1.17057532 0.86861589]\n",
      "[0.65248932 1.33692678 0.96439856 0.81026463 1.14216429 0.98992023\n",
      " 0.76394229 0.86410964 1.07939218 0.82126989 1.27370044 1.23403332\n",
      " 1.15399423 0.98534166 0.5678542  1.13837638 1.17732929 0.37557655\n",
      " 0.79059364 1.37212933 1.36413127 1.14206189 1.        ]\n",
      "[1.05450325 1.14247472 1.27471251 1.33700816 0.93847306 0.88370416\n",
      " 1.08243833 0.84796328 0.66467103 0.98437441 0.84921763 0.88120093\n",
      " 1.28639163 1.18922878 0.58074329 0.90219524 1.37004499 0.73065461]\n",
      "[1.06836048 0.93229    1.26588438 1.12079249 0.80082708 0.74414269\n",
      " 0.90700589 1.06443315 1.25527281 1.07734469 1.00867775 0.73686379\n",
      " 1.32585847 0.98881056 0.70343576]\n"
     ]
    }
   ],
   "source": [
    "for sentences in all_tokenized_sentences:\n",
    "\n",
    "    lxr = LexRank(sentences)\n",
    "\n",
    "    scores_cont = lxr.rank_sentences(\n",
    "        sentences,\n",
    "        threshold=None,\n",
    "        fast_power_method=True,\n",
    "    )\n",
    "\n",
    "    print(scores_cont)"
   ]
  },
  {
   "cell_type": "code",
   "execution_count": 66,
   "metadata": {},
   "outputs": [
    {
     "name": "stdout",
     "output_type": "stream",
     "text": [
      "['While the use of cell-grown reference viruses and cell-based technology may offer the potential for better protection over traditional, egg-based flu vaccines because they result in vaccine viruses that are more similar to flu viruses in circulation, there are no data yet to support this.', 'Another factor that can impact vaccine effectiveness, especially against influenza A(H3N2) viruses, are changes that can occur in vaccine viruses as they are grown in eggs, which is the production method for most current flu vaccines.']\n",
      "['Based on data from past flu seasons, CDC researchers used key flu indicator data to develop intensity thresholds (ITs) to classify the severity of flu seasons.', 'In 2017, CDC adopted and outlined a new methodology for determining flu season severity.']\n",
      "['Options this season include: There is a table\\xa0showing all flu vaccines that are FDA-approved for use in the United States during the 2019-2020 season.', 'More information about how CDC antigenically characterizes flu viruses is available, and more complete antigenic data will be available in the coming weeks.']\n",
      "['Children 6 months through 8 years of age who need 2 doses should receive their first dose as soon as possible after the vaccine becomes available to allow the second dose (which must be administered at least 4 weeks later) to be received by the end of October.', 'In trying to balance the need to get many people vaccinated before flu activity begins with concerns about potential waning of vaccine-induced immunity during the flu season, CDC and ACIP recommend that vaccination be offered by the end of October.']\n",
      "['There is no preferential recommendation for one flu vaccine over another.', 'While the use of cell-grown vaccine viruses and cell-based technology may offer the potential for better protection over traditional, egg-based flu vaccines because they result in vaccine viruses that are more similar to flu viruses in circulation, there are no vaccine effectiveness data to support this.']\n",
      "['When these indicators rise and remain elevated for a number of consecutive weeks, “flu season” is said to have begun.', 'The timing of flu is unpredictable and can vary in different parts of the country and from season to season.']\n",
      "['Why is the nasal spray being recommended as an option this year when it has been shown to not be effective in past flu seasons?', 'While data from 2010-2011 through 2016-2017 indicated that nasal spray vaccine lacked effectiveness among 2 through 17-year-olds against H1N1 viruses in the U.S., nasal spray vaccine was effective against influenza B viruses, and was similarly effective against H3N2 viruses as inactivated influenza vaccines.']\n",
      "['Vaccination is particularly important for\\xa0people at high risk for serious flu complications, and their close contacts.', 'Because of these factors, there is always the possibility of a less than optimal match between circulating flu viruses and the viruses in a flu vaccine.']\n",
      "['Baloxavir is approved for the treatment of acute uncomplicated flu in people 12 years and older who have had flu symptoms for less than 48 hours.', 'People at\\xa0high risk\\xa0of serious flu\\xa0complications recommended for prompt antiviral treatment include children younger than 2 years of age (although all children younger than 5 years are considered at higher risk for complications from flu, the highest risk is for those younger than 2 years of age), adults 65 years of age and older, pregnant women, people with certain long-term medical conditions, and residents of nursing homes and other long-term care facilities).']\n",
      "['The information collected will assist in making informed recommendations regarding use of antiviral drugs to treat flu.', 'CDC also is working with the state public health departments and the World Health Organization to collect additional information on antiviral resistance in the United States and worldwide.']\n",
      "['For 2020-2021, trivalent (three-component) egg-based vaccines contained: Quadrivalent (four-component) egg-based vaccines, which protect against a second lineage of B viruses, contained: For 2020-2021, cell- or recombinant-based vaccines contained: Yes, 2020-2021 flu vaccines were updated to better match the flu viruses that were expected to circulate in the United States.', 'The number of flu vaccine doses distributed, vaccination coverage estimates for children, and vaccinations administered in retail pharmacies and doctor’s offices were updated weekly.']\n",
      "['nan']\n",
      "['It is important to note that the actual number of flu-associated deaths in children is likely to be higher than what is reported by states to CDC because not all flu deaths in children are detected/reported.', 'The majority (96.7%) of influenza-associated hospitalizations, were due to influenza A viruses (99.2% of those subtyped were A(H3N2) viruses).']\n",
      "['The A(H5N1) identification was the first positive test for avian influenza A(H5) virus in a human in the United States.', 'One avian A(H5N1) virus infection was identified in a person in Colorado with exposure to birds infected with a highly pathogenic avian influenza A(H5N1) virus.']\n",
      "['For more information, visit\\xa0Influenza Vaccine for the 2021-2022 Season | FDAexternal icon For the 2021-2022 flu season, there was no recommended preference for any one vaccine over another, and providers could administer any licensed, age-appropriate flu vaccine (IIV, RIV4, or LAIV4).', 'Compared with the Southern Hemisphere flu vaccine recommendation, this recommendation represented one update and that was to the influenza A(H3N2) component.']\n",
      "['During the 2021-2022, 0.2% of the viruses tested had markers associated with reduced susceptibility to the antiviral drugs recommended for treatment of influenza by CDC.', 'The use of adamantanes (amantadine and rimantadine) is not recommended for treatment and prevention of influenza A virus infection because of persistently high prevalence of resistance among circulating influenza A(H1N1)pdm09 and influenza A(H3N2) viruses (the adamantanes are not effective against influenza B viruses).']\n",
      "['Additional information about NIS-Flu methods and estimates from 2019-2020 season are available at FluVaxView.', 'Of note, because these estimates are based on data from nine integrated health care systems, they may not be representative of all pregnant people in the United States.']\n",
      "['More information on flu surveillance methodology and these updates is available online.', 'These improvements include more testing, new surveillance system components, and presenting more data at the state level and sub-state level.']\n"
     ]
    }
   ],
   "source": [
    "for sentences in all_tokenized_sentences:\n",
    "\n",
    "    lxr = LexRank(sentences)\n",
    "\n",
    "    summary = lxr.get_summary(sentences, summary_size=2, threshold=0.03)\n",
    "    \n",
    "    print(summary)"
   ]
  },
  {
   "cell_type": "code",
   "execution_count": 67,
   "metadata": {},
   "outputs": [
    {
     "name": "stdout",
     "output_type": "stream",
     "text": [
      "['Over the course of flu season, CDC studies samples of circulating flu viruses to evaluate how close a match there is between viruses used to make the flu vaccine and circulating flu viruses.']\n",
      "['The\\xa0burden of influenza on the United States can vary widely from season to season and is determined by a number of factors including the characteristics of circulating viruses, the timing of the season, population immunity to circulating viruses, how well flu vaccines are working, and how many people have gotten vaccinated.']\n",
      "['Limited antigenic data on recently circulating viruses are available at this point in the season, and the data suggest similarity of the circulating influenza A(H1N1)pdm09 and B/Yamagata viruses tested so far to the vaccine viruses.']\n",
      "['In trying to balance the need to get many people vaccinated before flu activity begins with concerns about potential waning of vaccine-induced immunity during the flu season, CDC and ACIP recommend that vaccination be offered by the end of October.']\n",
      "['While the use of cell-grown vaccine viruses and cell-based technology may offer the potential for better protection over traditional, egg-based flu vaccines because they result in vaccine viruses that are more similar to flu viruses in circulation, there are no vaccine effectiveness data to support this.']\n",
      "['This time of year is called “flu season.” In the United States, flu viruses are most common during the fall and winter months.']\n",
      "['There is no expressed preference for any flu shot or the nasal spray vaccine.']\n",
      "['During years when the viruses in the flu vaccine and circulating flu viruses are well matched, it’s possible to measure substantial benefits from flu vaccination in terms of preventing flu illness.']\n",
      "['Baloxavir is approved for the treatment of acute uncomplicated flu in people 12 years and older who have had flu symptoms for less than 48 hours.']\n",
      "['The Epidemiology and Prevention Branch in the Influenza Division at CDC collects, compiles and analyzes information on flu activity year round in the United States and produces FluView, a weekly flu surveillance report, and FluView Interactive, which allows for more in-depth exploration of flu surveillance data.']\n",
      "['For the 2020-21 flu season, CDC provided weekly updates on the number of flu vaccine doses distributed, vaccination coverage estimates for children, and the number of doses administered in pharmacies and doctor’s offices.']\n",
      "['nan']\n",
      "['Nationally, flu activity during the 2021-2022 season began to increase in November and remained elevated until mid-June with two different waves of influenza A(H3N2) virus activity occurring; the first peaked in late December 2021, and the second in April 2022.']\n",
      "['While the number of B/Victoria viruses that circulated during the 2021-22 season was small, the majority of the B/Victoria viruses characterized were antigenically similar to the vaccine reference virus.']\n",
      "['For more information, visit\\xa0Influenza Vaccine for the 2021-2022 Season | FDAexternal icon For the 2021-2022 flu season, there was no recommended preference for any one vaccine over another, and providers could administer any licensed, age-appropriate flu vaccine (IIV, RIV4, or LAIV4).']\n",
      "['The use of adamantanes (amantadine and rimantadine) is not recommended for treatment and prevention of influenza A virus infection because of persistently high prevalence of resistance among circulating influenza A(H1N1)pdm09 and influenza A(H3N2) viruses (the adamantanes are not effective against influenza B viruses).']\n",
      "['For the 2021-22 flu season, CDC provided weekly updates on the number of flu vaccine doses distributed, vaccination coverage estimates for children, and the number of doses administered in pharmacies and doctor’s offices.']\n",
      "['After discussions with public health partners during the summer of 2021, the decision was made to permanently retire this surveillance component due in part to the fact that the systems used to determine the level of spread remain significantly altered by changes in healthcare seeking behavior and testing changes brought on by the COVID-19 pandemic, and a measure of geographic spread was not necessary anymore given improvements in national influenza surveillance systems in recent years.']\n"
     ]
    }
   ],
   "source": [
    "for sentences in all_tokenized_sentences:\n",
    "\n",
    "    lxr = LexRank(sentences)\n",
    "\n",
    "    summary_cont = lxr.get_summary(sentences, threshold=None)\n",
    "    \n",
    "    print(summary_cont)"
   ]
  },
  {
   "cell_type": "markdown",
   "metadata": {},
   "source": [
    "### Text Rank"
   ]
  },
  {
   "cell_type": "code",
   "execution_count": 19,
   "metadata": {},
   "outputs": [
    {
     "name": "stdout",
     "output_type": "stream",
     "text": [
      "Collecting summa\n",
      "  Downloading summa-1.2.0.tar.gz (54 kB)\n",
      "\u001b[2K     \u001b[90m━━━━━━━━━━━━━━━━━━━━━━━━━━━━━━━━━━━━━━━━\u001b[0m \u001b[32m54.9/54.9 kB\u001b[0m \u001b[31m1.1 MB/s\u001b[0m eta \u001b[36m0:00:00\u001b[0ma \u001b[36m0:00:01\u001b[0m\n",
      "\u001b[?25h  Preparing metadata (setup.py) ... \u001b[?25ldone\n",
      "\u001b[?25hRequirement already satisfied: scipy>=0.19 in /Users/tongfah/anaconda3/envs/nlp/lib/python3.11/site-packages (from summa) (1.11.4)\n",
      "Requirement already satisfied: numpy<1.28.0,>=1.21.6 in /Users/tongfah/anaconda3/envs/nlp/lib/python3.11/site-packages (from scipy>=0.19->summa) (1.26.3)\n",
      "Building wheels for collected packages: summa\n",
      "  Building wheel for summa (setup.py) ... \u001b[?25ldone\n",
      "\u001b[?25h  Created wheel for summa: filename=summa-1.2.0-py3-none-any.whl size=54389 sha256=ac8efb6a486344a20db1e23703a954d32a9e8ef5d17ff8e53cdab3a1d1ad341f\n",
      "  Stored in directory: /Users/tongfah/Library/Caches/pip/wheels/10/2d/7a/abce87c4ea233f8dcca0d99b740ac0257eced1f99a124a0e1f\n",
      "Successfully built summa\n",
      "Installing collected packages: summa\n",
      "Successfully installed summa-1.2.0\n"
     ]
    }
   ],
   "source": [
    "!pip install summa"
   ]
  },
  {
   "cell_type": "code",
   "execution_count": 9,
   "metadata": {},
   "outputs": [],
   "source": [
    "text = content['Content'].values[0]"
   ]
  },
  {
   "cell_type": "code",
   "execution_count": 19,
   "metadata": {},
   "outputs": [],
   "source": [
    "from summa.summarizer import summarize\n",
    "summarizer = summarize(text, ratio=0.05)"
   ]
  },
  {
   "cell_type": "code",
   "execution_count": 20,
   "metadata": {},
   "outputs": [
    {
     "name": "stdout",
     "output_type": "stream",
     "text": [
      "A few things are new this season: For the 2018-2019 flu season, providers may choose to administer any licensed, age-appropriate flu vaccine (IIV, RIV4, or LAIV4). Options this season include: There is a table showing all flu vaccines that are FDA-approved for use in the United States during the 2018-2019 season. There are many different flu viruses and they are constantly changing. The composition of U.S. flu vaccines is reviewed annually and updated as needed to match circulating flu viruses. Flu vaccines protect against the three or four viruses (depending on vaccine) that research suggests will be most common. For 2018-2019, trivalent (three-component) vaccines are recommended to contain: Quadrivalent (four-component) vaccines, which protect against a second lineage of B viruses, are recommended to contain: You should get a flu vaccine before flu begins spreading in your community. It takes about two weeks after vaccination for antibodies that protect against flu to develop in the body, so make plans to get vaccinated early in fall, before flu season begins. CDC recommends that people get a flu vaccine by the end of October. Getting vaccinated later, however, can still be beneficial and vaccination should continue to be offered throughout flu season, even into January or later. Children who need two doses of vaccine to be protected should start the vaccination process sooner, because the two doses must be given at least four weeks apart. The recommendations for people with egg allergies are the same as last season. Cell-grown reference viruses do not have the changes that are present in egg-grown reference viruses, so they should be more similar to circulating “wild-type” viruses. Vaccine effectiveness depends in part on the match between the vaccine virus and circulating flu viruses. While the use of cell-grown reference viruses and cell-based technology may offer the potential for better protection over traditional, egg-based flu vaccines because they result in vaccine viruses that are more similar to flu viruses in circulation, there are no data yet to support this. There is no preferential recommendation for one injectable flu vaccine over another. It is not possible to predict what this flu season will be like. While flu spreads every year, the timing, severity, and length of the season varies from one season to another. Flu viruses are constantly changing so it’s not unusual for new flu viruses to appear each year. More information about how flu viruses change is available. The United States experiences annual epidemics of seasonal flu. This time of year is called “flu season.” In the United States, flu viruses are most common during the fall and winter months. Influenza activity often begins to increase in October and November. Most of the time flu activity peaks between December and February, and it can last as late as May. CDC monitors certain key flu indicators (for example, outpatient visits of influenza-like illness (ILI), the results of laboratory testing and reports of flu hospitalizations and deaths). When these indicators rise and remain elevated for a number of consecutive weeks, “flu season” is said to have begun. Usually ILI increases first, followed by an increase in flu-associated hospitalizations, which is then followed by increases in flu-associated deaths. For the most current influenza surveillance information: Weekly U.S. Influenza Surveillance Report. The timing of flu is unpredictable and can vary in different parts of the country and from season to season. Seasonal flu viruses can be detected year-round; however, seasonal flu activity often begins as early as October and November and can continue to occur as late as May. Flu activity most commonly peaks in the United States between December and February. CDC conducts surveillance for people who see their health care provider for flu-like illness through the Outpatient Influenza-like Illness Surveillance Network (ILINet); a network of thousands of health care providers who report the proportion of patients seeking care for flu-like illness weekly to CDC. This system allows CDC to track levels of medically attended flu-like illness over the course of the flu season. CDC does not know exactly how many people get sick with seasonal flu each year. There are several reasons for this including that ILINet does not include every health care provider and monitors flu-like illness, not laboratory-confirmed influenza cases. Also, flu illness is not a reportable disease and not everyone who gets sick with flu seeks medical care or gets tested. CDC uses mathematical modeling in combination with data from traditional flu surveillance systems to estimate the numbers of flu illnesses in the United States. CDC estimates that flu has resulted in between 9.3 million and 49 million illnesses each year in the United States since 2010. More information on these estimates is available on CDC’s Disease Burden of Influenza page. During the 2018-2019 flu season, CDC began reporting cumulative, in-season estimates of the disease burden of influenza, including estimates of the total number of flu illnesses in the United States. More information regarding these Preliminary In-Season Burden Estimates is available. For more information on CDC surveillance systems, see CDC’s Overview of Influenza Surveillance in the United States. CDC conducts surveillance for flu-related hospitalizations through the Influenza Hospitalization Surveillance Network (FluSurv-NET), a collaboration between CDC, the Emerging Infections Program, and additional Influenza Hospitalization Surveillance Project (IHSP) states in 13 geographically distributed areas in the United States. The network includes hospitals that serve roughly 9 percent of the U.S. population. The data collected through FluSurv-NET allows CDC to calculate an overall hospitalization rate, as well as by age group, but this system does not provide the total number of flu hospitalizations that actually occur in the United States. Reported FluSurv-NET hospitalization rates are adjusted to correct for under-detection, which is calculated from the percent of persons hospitalized with respiratory illness who were tested for influenza and the average sensitivity of influenza tests used in the participating FluSurv-NET surveillance hospitals. CDC uses these methods to estimate the true burden of flu hospitalizations in the United States. Since 2010, CDC estimates that flu has resulted in between 140,000 and 960,000 hospitalizations each year. For more information on these estimates see CDC’s Disease Burden of Influenza page. During the 2018-2019 flu season, CDC began reporting cumulative, in-season estimates of disease burden of influenza, including estimates of the total number of people hospitalized in the United States from flu. More information regarding these Preliminary In-Season Burden Estimates is available. For more information on CDC surveillance systems, see CDC’s Overview of Influenza Surveillance in the United States. Flu deaths in adults are not nationally notifiable. In order to monitor influenza related deaths in all age groups, CDC tracks pneumonia and influenza (P&I)–attributed deaths through the National Center for Health Statistics (NCHS) Mortality Reporting System. This system tracks the proportion of death certificates processed that list pneumonia or influenza as the underlying or contributing cause of death. This system provides an overall indication of whether flu-associated deaths are elevated, but does not provide an exact number of how many people died from flu. As it does for the numbers of flu cases, doctor’s visits and hospitalizations, CDC also estimates deaths in the United States using mathematical modeling. CDC estimates that from 2010-2011 to 2017-2018, influenza-associated deaths in the United States ranged from a low of 12,000 (during 2011-2012) to a high of 79,000 (during 2017-2018). The model used to estimate flu-associated deaths uses a ratio of deaths-to-hospitalizations in order to estimate the total flu-related deaths during a season. For more information: How CDC Estimates Burden. As data allow, CDC will begin reporting cumulative, in-season estimates of the influenza mortality burden. More information regarding these Preliminary In-Season Burden Estimates is available. For more information: Overview of Influenza Surveillance in the United States, “Mortality Surveillance.” Influenza-associated deaths in children (people younger than 18) became nationally reportable in 2004. Since that time the number of pediatric flu deaths reported to CDC each year has ranged from 37 (2011-2012 season) to 185 deaths (2017-2018 season). It’s important to note that the actual number of flu deaths in children is thought to be higher than what is reported by states to CDC because not all flu deaths in children are detected/reported. CDC also estimates the numbers of flu-related deaths using statistical models. Estimates of deaths in children since 2010 have ranged from 37 (2011-2012) to about 1,200 (2012-2013). CDC believes these estimated numbers of pediatric deaths are likely a better estimate of the number of pediatric flu deaths. For more information on these estimates see CDC’s Disease Burden of Influenza page. There are several factors that make it difficult to determine accurate numbers of deaths caused by flu regardless of reporting. Some of the challenges in counting flu associated deaths include the following:  CDC recommends a yearly flu vaccine for everyone 6 months of age and older as the first and most important step in protecting against this serious disease. In addition to getting a seasonal flu vaccine, you can take everyday preventive actions like staying away from sick people and washing your hands to reduce the spread of germs. If you are sick with flu, stay home from work or school to prevent spreading flu to others. In addition, there are prescription medications called antiviral drugs that can be used to treat influenza illness. Encourage your loved ones to get vaccinated. Vaccination is especially important for people at high risk for developing flu complications, and their close contacts. Also, if you have a loved one who is at high risk of flu complications and they develop flu symptoms, encourage them to get a medical evaluation for possible treatment with flu antiviral drugs. These drugs work best if given within 48 hours of when symptoms start. CDC recommends that people who are at high risk for serious flu complications and who get flu symptoms during flu season be treated with flu antiviral drugs as quickly as possible without waiting for confirmatory testing. People who are not at high risk for serious flu complications may also be treated with flu antiviral drugs, especially if treatment can begin within 48 hours. Yes. Some children 6 months through 8 years of age will require two doses of flu vaccine for adequate protection from flu. Children in this age group who are getting vaccinated for the first time will need two doses of flu vaccine, spaced at least 4 weeks apart. Children who have only received one dose in their lifetime also need two doses. Your child’s doctor or other health care professional can tell you if your child needs two doses of flu vaccine. Children younger than 6 months old are at high risk of serious flu complications, but are too young to get a flu vaccine. Because of this, safeguarding them from flu is especially important. If you live with or care for an infant younger than 6 months old, you should get a flu vaccine to help protect them from flu. Advice for Caregivers of Young Children is available for more information. Everyone else who is around the baby also should be vaccinated. Also, studies have shown that flu vaccination of the mother during pregnancy can protect the baby after birth from flu infection for several months. In addition to getting vaccinated, you and your loved ones can take everyday preventive actions like staying away from sick people and washing your hands to reduce the spread of germs. If you are sick with flu, stay home from work or school to prevent spreading flu to others. Flu vaccine is produced by private manufacturers, so supply depends on manufacturers. For the 2018-2019 season, manufacturers projected they would provide between 163 million and 168 million doses of injectable vaccine for the U.S. market. (Projections may change as the season progresses.) Flu vaccine supply updates will be provided as they become available at Seasonal Influenza Vaccine & Total Doses Distributed. For the 2018-2019 flu season, ACIP recommends annual influenza vaccination for everyone 6 months and older with any licensed, age-appropriate flu vaccine (IIV, RIV4, or LAIV4) with no preference expressed for any one vaccine over another. There are many vaccine options to choose from; the most important thing is for all people 6 months and older to get a flu vaccine every year. If you have questions about which vaccine is best for you, talk to your doctor or other health care professional. While observational data from 2010-11 through 2015-16 flu seasons indicate that LAIV was not effective among 2 through 17-year-olds against H1N1pdm09 influenza viruses in the U.S., LAIV was effective against influenza B viruses, and was similarly effective to inactivated influenza vaccines against H3N2 viruses. Some data suggest that the new H1N1 vaccine virus included in the new LAIV vaccines will have improved effectiveness against circulating H1N1 viruses; however, no published effectiveness estimates are available yet. Getting vaccinated before flu activity begins helps protect you once flu season starts in your community. It takes about two weeks after vaccination for the body’s immune response to fully respond and for you to be protected, so make plans to get vaccinated. CDC recommends that people get a flu vaccine by the end of October. However, getting vaccinated later can still be beneficial. CDC recommends ongoing flu vaccination as long as influenza viruses are circulating, even into January or later. Children 6 months to 8 years old who need two doses of vaccine should get the first dose as soon after vaccine is available to allow time to get the second dose before the start of flu season. The two doses should be given at least 4 weeks apart. Flu vaccines are offered by many doctor’s offices, clinics, health departments, pharmacies and college health centers, as well as by many employers, and even by some schools. Even if you don’t have a regular doctor or nurse, you can get a flu vaccine somewhere else, like a health department, pharmacy, urgent care clinic, and often your school, college health center, or work. The HealthMap Vaccine Finder helps you to locate where you can get a flu vaccine. The U.S. Food and Drug Administration (FDA) has approved two influenza vaccines (Afluria and Afluria Quadrivalent) for administration by a jet injector device (the PharmaJet Stratis 0.5ml Needle-free Jet Injector) for people 18 through 64 years of age. These are the only two influenza vaccines approved for administration by jet injector. People aged 18 through 64 years may receive these vaccines either by jet injector or needle. A jet injector is a medical device used for vaccination that uses a high-pressure, narrow stream of fluid to penetrate the skin instead of a hypodermic needle. More information about Flu Vaccination by Jet Injector is available. The U.S. Food and Drug Administration (FDA) licensed a seasonal influenza (flu) vaccine containing adjuvant for adults 65 years of age and older. An adjuvant is an ingredient added to a vaccine to create a stronger immune response to vaccination. FLUAD was licensed in November 2015 and will be available during the 2018-2019 flu season. It contains the MF59 adjuvant, an oil-in-water emulsion of squalene oil. FLUAD™ is the first adjuvanted seasonal flu vaccine marketed in the United States. Multiple studies conducted over different seasons and across flu vaccine types and influenza virus subtypes have shown that the body’s immunity to influenza viruses (acquired either through natural infection or vaccination) declines over time. The decline in antibodies is influenced by several factors, including the antigen used in the vaccine, the age of the person being vaccinated, and the person’s general health (for example, certain chronic health conditions may have an impact on immunity). Older people and others with weakened immune systems may not generate the same amount of antibodies after vaccination; further, their antibody levels may drop more quickly when compared to young, healthy people. Getting vaccinated each year provides the best protection against flu throughout flu season. It’s important to get a flu vaccine every season, even if you got vaccinated the season before and the viruses in the flu vaccine have not changed for the current season. Yes. It’s possible to get sick with flu even if you have been vaccinated (although you won’t know for sure unless you get a flu test). This is possible for the following reasons: Influenza vaccine effectiveness (VE) can vary from season to season and among different age and risk groups and even by vaccine type. How well the vaccine works can depend in part on the match between the vaccine viruses used to produce vaccine and circulating viruses that season. It’s not possible to predict in advance what flu viruses will predominate. CDC monitors circulating viruses throughout the year and provides new and updated information about their similarity to flu vaccine viruses as it becomes available. Information is published weekly in FluView and summarized at intervals in the Morbidity and Mortality Weekly Report (MMWR). Vaccine effectiveness estimates are also provided when they become available. While vaccine effectiveness can vary, recent studies show vaccine reduces the risk of flu illness by about 40% to 60% among the overall population during seasons when most circulating flu viruses are like the vaccine viruses. Similar reductions against hospitalization have been observed too. More information about previous vaccine effectiveness, is available. It’s not possible to predict with certainty if a flu vaccine will be a good match for circulating flu viruses. A flu vaccine is made to protect against the flu viruses that research and surveillance indicate will likely be most common during the season. However, experts must pick which flu viruses to include in a flu vaccine many months in advance in order for flu vaccines to be produced and delivered on time. Also flu viruses change constantly (called “drift”). They can change from one season to the next or they can even change within the course of one flu season. Another factor that can impact vaccine effectiveness, especially against influenza A(H3N2) viruses, are changes that can occur in vaccine viruses as they are grown in eggs, which is the production method for most current flu vaccines. Because of these factors, there is always the possibility of a less than optimal match between circulating flu viruses and the viruses in a flu vaccine. Over the course of flu season, CDC studies samples of circulating flu viruses to evaluate how close a match there is between viruses used to make the flu vaccine and circulating flu viruses. One of the ways that helps CDC evaluate the match between flu vaccine viruses and circulating flu viruses is with a lab process called ‘genetic and antigenic characterization’. Results of genetic and antigenic characterization testing are published weekly in CDC’s FluView. Yes, antibodies made in response to vaccination with one flu virus can sometimes provide protection against different but related flu viruses. A less than ideal match may result in reduced vaccine effectiveness against the flu virus that is different from what is in the flu vaccine, but it might still provide some protection against flu illness. In addition, it’s important to remember that a flu vaccine contains three or four flu viruses (depending on the type of vaccine you receive) so that even when there is a less than ideal match or lower effectiveness against one virus, a flu vaccine may protect against the other flu viruses. For these reasons, even during seasons when there is a less than ideal match, CDC continues to recommend flu vaccination for everyone 6 months and older. Vaccination is particularly important for people at high risk for serious flu complications, and their close contacts. Influenza viruses usually infect the respiratory tract (i.e., the airways of the nose, throat and lungs). As the infection progresses, the body’s immune system responds to fight the virus. This results in inflammation that can trigger respiratory symptoms such as cough and sore throat. The immune system response can also trigger fever and cause muscle or body aches. When infected persons cough, sneeze, or talk, they can spread influenza viruses in respiratory droplets to people who are nearby. People might also get flu by touching a contaminated surface or object that has flu virus on it and then touching their own mouth or nose. Most people who become sick will recover in a few days to less than two weeks, but some people may become more severely ill. Following flu infection, moderate complications such as secondary ear and sinus infections can occur. Pneumonia is a serious flu complication that can result from either influenza virus infection alone or from co-infection of flu virus and bacteria. Other possible serious complications triggered by flu can include inflammation of the heart (myocarditis), brain (encephalitis) or muscle (myositis, rhabdomyolysis) tissues, and multi-organ failure (for example, respiratory and kidney failure). Severe complications can happen to anyone, but may be more likely to happen to people who have certain chronic medical conditions, or in elderly persons. Most people with flu have mild illness and do not need medical care or antiviral drugs. If you get sick with flu symptoms, in most cases, you should stay home and avoid contact with other people except to get medical care. If, however, you have symptoms of flu and are at high risk of flu complications, or are very sick or concerned about your illness, contact your health care provider. There are drugs your doctor may prescribe for treating flu called antivirals. These drugs can make you better faster and may also prevent serious complications. Antiviral drugs are prescription drugs that can be used to treat flu illness. People at high risk of serious flu complications recommended for prompt antiviral treatment include children younger than 2 years of age (although all children younger than 5 years are considered at higher risk for complications from influenza, the highest risk is for those younger than 2 years of age), adults 65 years of age and older, pregnant women, people with certain long-term medical conditions, and residents of nursing homes and other long-term care facilities). Antiviral treatment as early as possible is also recommended for people who are very sick with flu (such as those with complicated, progressive illness or people hospitalized because of flu). Other people can be treated with antivirals at their health care professional’s discretion. Treating high risk people or people who are very sick with flu with antiviral drugs is very important. Studies show that prompt treatment with antiviral drugs can prevent serious flu complications. Prompt treatment can mean the difference between having a milder illness versus very serious illness that could result in a hospital stay. Treatment with antivirals works best when begun within 48 hours of getting sick, but can still be beneficial when given later in the course of illness. Antiviral drugs are effective across all age and risk groups. Studies show that antiviral drugs are under-prescribed for people who are at high risk of complications who get flu. Four FDA-approved antiviral medications are recommended for use during the 2018-2019 flu season: oseltamivir (available in generic versions and under the trade name Tamiflu®), zanamivir (Relenza®), peramivir (Rapivab®), and baloxavir marboxil (Xofluza®). More information about antiviral drugs can be found at Treatment – Antiviral Drugs. This guidance is consistent with the 2018-2019 flu season recommendations published by the Infectious Diseases Society of America (IDSA) on December 19 in Clinical Infectious Diseases. “The Flu: What To Do If You Get Sick” Baloxavir marboxil (trade name Xofluza®) is an influenza single-dose antiviral drug approved October 24, 2018 by the Food and Drug Administration (FDA). Baloxavir is approved for the treatment of acute uncomplicated flu in people 12 years and older who have had flu symptoms for less than 48 hours. In clinical randomized trials, baloxavir was similar to oseltamivir, a currently recommended flu antiviral drug, in alleviating flu symptoms. More information regarding baloxaviris available: Influenza Antiviral Drug Baloxavir Marboxil. The Epidemiology and Prevention Branch in the Influenza Division at CDC collects, compiles and analyzes information on flu activity year round in the United States and produces FluView, a weekly influenza surveillance report, and FluView Interactive, which allows for more in-depth exploration of influenza surveillance data. The U.S. influenza surveillance system is a collaborative effort between CDC and its many partners in state, local, and territorial health departments, public health and clinical laboratories, vital statistics offices, healthcare providers, clinics, and emergency departments. Information in five categories is collected from eight different data sources that allow CDC to: For more information, visit “Overview of Influenza Surveillance in the United States”. CDC collaborates with partners each season to assess how well the seasonal flu vaccines are working. During the 2018-2019 season, CDC is planning multiple studies on the effectiveness of flu shots. These studies measure vaccine effectiveness in preventing laboratory-confirmed influenza among persons 6 months of age and older. A summary of CDC’s latest vaccine effectiveness estimates is available at Seasonal Influenza Vaccine Effectiveness, 2005-2018. Antiviral resistance means that a virus has changed in such a way that antiviral drugs are less effective or not effective at all in treating or preventing illnesses with that virus. CDC will continue to collect and monitor flu viruses for changes through an established network of domestic and global surveillance systems. CDC also is working with the state public health departments and the World Health Organization to collect additional information on antiviral resistance in the United States and worldwide. The information collected will assist in making informed recommendations regarding use of antiviral drugs to treat influenza.\n"
     ]
    }
   ],
   "source": [
    "print(text)"
   ]
  },
  {
   "cell_type": "code",
   "execution_count": 21,
   "metadata": {},
   "outputs": [
    {
     "name": "stdout",
     "output_type": "stream",
     "text": [
      "During the 2018-2019 flu season, CDC began reporting cumulative, in-season estimates of the disease burden of influenza, including estimates of the total number of flu illnesses in the United States.\n",
      "During the 2018-2019 flu season, CDC began reporting cumulative, in-season estimates of disease burden of influenza, including estimates of the total number of people hospitalized in the United States from flu.\n",
      "Some of the challenges in counting flu associated deaths include the following:  CDC recommends a yearly flu vaccine for everyone 6 months of age and older as the first and most important step in protecting against this serious disease.\n",
      "CDC recommends that people who are at high risk for serious flu complications and who get flu symptoms during flu season be treated with flu antiviral drugs as quickly as possible without waiting for confirmatory testing.\n",
      "While observational data from 2010-11 through 2015-16 flu seasons indicate that LAIV was not effective among 2 through 17-year-olds against H1N1pdm09 influenza viruses in the U.S., LAIV was effective against influenza B viruses, and was similarly effective to inactivated influenza vaccines against H3N2 viruses.\n",
      "CDC recommends ongoing flu vaccination as long as influenza viruses are circulating, even into January or later.\n",
      "The U.S. Food and Drug Administration (FDA) licensed a seasonal influenza (flu) vaccine containing adjuvant for adults 65 years of age and older.\n",
      "CDC monitors circulating viruses throughout the year and provides new and updated information about their similarity to flu vaccine viruses as it becomes available.\n",
      "For these reasons, even during seasons when there is a less than ideal match, CDC continues to recommend flu vaccination for everyone 6 months and older.\n"
     ]
    }
   ],
   "source": [
    "print(summarizer)"
   ]
  },
  {
   "cell_type": "code",
   "execution_count": null,
   "metadata": {},
   "outputs": [],
   "source": []
  }
 ],
 "metadata": {
  "kernelspec": {
   "display_name": "nlp",
   "language": "python",
   "name": "python3"
  },
  "language_info": {
   "codemirror_mode": {
    "name": "ipython",
    "version": 3
   },
   "file_extension": ".py",
   "mimetype": "text/x-python",
   "name": "python",
   "nbconvert_exporter": "python",
   "pygments_lexer": "ipython3",
   "version": "3.11.5"
  }
 },
 "nbformat": 4,
 "nbformat_minor": 2
}
