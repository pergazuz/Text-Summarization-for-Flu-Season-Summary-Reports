{
 "cells": [
  {
   "cell_type": "code",
   "execution_count": null,
   "metadata": {},
   "outputs": [],
   "source": [
    "import ast\n",
    "import pandas as pd\n",
    "import networkx as nx\n",
    "import seaborn as sns\n",
    "import matplotlib.pyplot as plt\n",
    "import community as community_louvain\n",
    "from itertools import combinations\n",
    "\n",
    "import nltk\n",
    "from nltk.tokenize import word_tokenize\n",
    "from nltk.probability import FreqDist"
   ]
  },
  {
   "cell_type": "code",
   "execution_count": 13,
   "metadata": {},
   "outputs": [
    {
     "data": {
      "text/html": [
       "<div>\n",
       "<style scoped>\n",
       "    .dataframe tbody tr th:only-of-type {\n",
       "        vertical-align: middle;\n",
       "    }\n",
       "\n",
       "    .dataframe tbody tr th {\n",
       "        vertical-align: top;\n",
       "    }\n",
       "\n",
       "    .dataframe thead th {\n",
       "        text-align: right;\n",
       "    }\n",
       "</style>\n",
       "<table border=\"1\" class=\"dataframe\">\n",
       "  <thead>\n",
       "    <tr style=\"text-align: right;\">\n",
       "      <th></th>\n",
       "      <th>Year</th>\n",
       "      <th>Content</th>\n",
       "      <th>Token</th>\n",
       "    </tr>\n",
       "  </thead>\n",
       "  <tbody>\n",
       "    <tr>\n",
       "      <th>0</th>\n",
       "      <td>2006-2007</td>\n",
       "      <td>When and where did the 2006-07 flu season star...</td>\n",
       "      <td>['200607', 'flu', 'season', 'start', 'first', ...</td>\n",
       "    </tr>\n",
       "    <tr>\n",
       "      <th>1</th>\n",
       "      <td>2007-2008</td>\n",
       "      <td>How severe was the 2007-2008 flu season?: A gr...</td>\n",
       "      <td>['severe', '20072008', 'flu', 'season', 'great...</td>\n",
       "    </tr>\n",
       "    <tr>\n",
       "      <th>2</th>\n",
       "      <td>2008-2009</td>\n",
       "      <td>What was the 2009-2010 flu season like?: Flu s...</td>\n",
       "      <td>['20092010', 'flu', 'season', 'like', 'flu', '...</td>\n",
       "    </tr>\n",
       "    <tr>\n",
       "      <th>3</th>\n",
       "      <td>2010-2011</td>\n",
       "      <td>What was the 2010-2011 flu season like?: In co...</td>\n",
       "      <td>['20102011', 'flu', 'season', 'like', 'compari...</td>\n",
       "    </tr>\n",
       "    <tr>\n",
       "      <th>4</th>\n",
       "      <td>2011-2012</td>\n",
       "      <td>What was the 2011-2012 flu season like?: In co...</td>\n",
       "      <td>['20112012', 'flu', 'season', 'like', 'compari...</td>\n",
       "    </tr>\n",
       "    <tr>\n",
       "      <th>5</th>\n",
       "      <td>2012-2013</td>\n",
       "      <td>What was the 2012-2013 flu season like?: In co...</td>\n",
       "      <td>['20122013', 'flu', 'season', 'like', 'compari...</td>\n",
       "    </tr>\n",
       "    <tr>\n",
       "      <th>6</th>\n",
       "      <td>2013-2014</td>\n",
       "      <td>When did flu activity peak?: The timing of flu...</td>\n",
       "      <td>['flu', 'activity', 'peak', 'timing', 'flu', '...</td>\n",
       "    </tr>\n",
       "    <tr>\n",
       "      <th>7</th>\n",
       "      <td>2014-2015</td>\n",
       "      <td>What was the 2014-2015 flu season like?: Compa...</td>\n",
       "      <td>['20142015', 'flu', 'season', 'like', 'compare...</td>\n",
       "    </tr>\n",
       "    <tr>\n",
       "      <th>8</th>\n",
       "      <td>2015-2016</td>\n",
       "      <td>Season Summary Reports: nan\\n\\nWhat was the 20...</td>\n",
       "      <td>['season', 'summary', 'report', 'nan', '201520...</td>\n",
       "    </tr>\n",
       "    <tr>\n",
       "      <th>9</th>\n",
       "      <td>2016-2017</td>\n",
       "      <td>Season Summary Reports: nan\\n\\nInformation for...</td>\n",
       "      <td>['season', 'summary', 'report', 'nan', 'inform...</td>\n",
       "    </tr>\n",
       "    <tr>\n",
       "      <th>10</th>\n",
       "      <td>2017-2018</td>\n",
       "      <td>Season Summary Reports: nan\\n\\nWhat was the 20...</td>\n",
       "      <td>['season', 'summary', 'report', 'nan', '201720...</td>\n",
       "    </tr>\n",
       "    <tr>\n",
       "      <th>11</th>\n",
       "      <td>2018-2019</td>\n",
       "      <td>What’s new this flu season?: A few things are ...</td>\n",
       "      <td>['new', 'flu', 'season', 'thing', 'new', 'seas...</td>\n",
       "    </tr>\n",
       "    <tr>\n",
       "      <th>12</th>\n",
       "      <td>2019-2020</td>\n",
       "      <td>What’s new this flu season?: A few things are ...</td>\n",
       "      <td>['new', 'flu', 'season', 'thing', 'new', 'seas...</td>\n",
       "    </tr>\n",
       "    <tr>\n",
       "      <th>13</th>\n",
       "      <td>2020-2021</td>\n",
       "      <td>Summary: Flu activity was unusually low throug...</td>\n",
       "      <td>['summary', 'flu', 'activity', 'unusually', 'l...</td>\n",
       "    </tr>\n",
       "    <tr>\n",
       "      <th>14</th>\n",
       "      <td>2021-2022</td>\n",
       "      <td>What was the 2021-2022 flu season like?: The t...</td>\n",
       "      <td>['20212022', 'flu', 'season', 'like', 'timing'...</td>\n",
       "    </tr>\n",
       "    <tr>\n",
       "      <th>15</th>\n",
       "      <td>2023-2024</td>\n",
       "      <td>Updates to the Advisory Committee on Immunizat...</td>\n",
       "      <td>['update', 'advisory', 'committee', 'immunizat...</td>\n",
       "    </tr>\n",
       "  </tbody>\n",
       "</table>\n",
       "</div>"
      ],
      "text/plain": [
       "         Year                                            Content  \\\n",
       "0   2006-2007  When and where did the 2006-07 flu season star...   \n",
       "1   2007-2008  How severe was the 2007-2008 flu season?: A gr...   \n",
       "2   2008-2009  What was the 2009-2010 flu season like?: Flu s...   \n",
       "3   2010-2011  What was the 2010-2011 flu season like?: In co...   \n",
       "4   2011-2012  What was the 2011-2012 flu season like?: In co...   \n",
       "5   2012-2013  What was the 2012-2013 flu season like?: In co...   \n",
       "6   2013-2014  When did flu activity peak?: The timing of flu...   \n",
       "7   2014-2015  What was the 2014-2015 flu season like?: Compa...   \n",
       "8   2015-2016  Season Summary Reports: nan\\n\\nWhat was the 20...   \n",
       "9   2016-2017  Season Summary Reports: nan\\n\\nInformation for...   \n",
       "10  2017-2018  Season Summary Reports: nan\\n\\nWhat was the 20...   \n",
       "11  2018-2019  What’s new this flu season?: A few things are ...   \n",
       "12  2019-2020  What’s new this flu season?: A few things are ...   \n",
       "13  2020-2021  Summary: Flu activity was unusually low throug...   \n",
       "14  2021-2022  What was the 2021-2022 flu season like?: The t...   \n",
       "15  2023-2024  Updates to the Advisory Committee on Immunizat...   \n",
       "\n",
       "                                                Token  \n",
       "0   ['200607', 'flu', 'season', 'start', 'first', ...  \n",
       "1   ['severe', '20072008', 'flu', 'season', 'great...  \n",
       "2   ['20092010', 'flu', 'season', 'like', 'flu', '...  \n",
       "3   ['20102011', 'flu', 'season', 'like', 'compari...  \n",
       "4   ['20112012', 'flu', 'season', 'like', 'compari...  \n",
       "5   ['20122013', 'flu', 'season', 'like', 'compari...  \n",
       "6   ['flu', 'activity', 'peak', 'timing', 'flu', '...  \n",
       "7   ['20142015', 'flu', 'season', 'like', 'compare...  \n",
       "8   ['season', 'summary', 'report', 'nan', '201520...  \n",
       "9   ['season', 'summary', 'report', 'nan', 'inform...  \n",
       "10  ['season', 'summary', 'report', 'nan', '201720...  \n",
       "11  ['new', 'flu', 'season', 'thing', 'new', 'seas...  \n",
       "12  ['new', 'flu', 'season', 'thing', 'new', 'seas...  \n",
       "13  ['summary', 'flu', 'activity', 'unusually', 'l...  \n",
       "14  ['20212022', 'flu', 'season', 'like', 'timing'...  \n",
       "15  ['update', 'advisory', 'committee', 'immunizat...  "
      ]
     },
     "execution_count": 13,
     "metadata": {},
     "output_type": "execute_result"
    }
   ],
   "source": [
    "df = pd.read_csv('data/flu_data_token.csv')\n",
    "df"
   ]
  },
  {
   "cell_type": "code",
   "execution_count": 16,
   "metadata": {},
   "outputs": [],
   "source": [
    "token: list = df['Token'][0]"
   ]
  },
  {
   "cell_type": "code",
   "execution_count": 17,
   "metadata": {},
   "outputs": [],
   "source": [
    "token_list = ast.literal_eval(token)"
   ]
  },
  {
   "cell_type": "code",
   "execution_count": 18,
   "metadata": {},
   "outputs": [
    {
     "name": "stdout",
     "output_type": "stream",
     "text": [
      "['200607', 'flu', 'season', 'start', 'first', 'report', 'regional', 'flu', 'activity', 'come', 'southeastern', 'united', 'states', 'first', 'week', 'november', 'regional', 'flu', 'activity', 'define', 'increase', 'flulike', 'activity', 'flu', 'outbreak', 'least', 'two', 'half', 'region', 'state', 'recent', 'laboratory', 'evidence', 'flu', 'region', 'severe', '20062007', 'flu', 'season', '200607', 'flu', 'season', 'generally', 'mild', 'compare', 'recent', 'flu', 'season', 'example', 'proportion', 'death', 'associate', 'influenza', 'illness', 'low', 'season', 'previous', 'three', 'flu', 'season', 'hospitalization', 'rate', 'among', 'child', 'also', 'low', 'previous', 'three', 'flu', 'season', 'however', 'pediatric', 'death', 'relate', 'influenza', 'report', '200607', 'season', 'previous', 'two', 'season', 'nationally', 'low', 'level', 'flu', 'activity', 'report', 'october', 'middecember', 'flu', 'activity', 'increase', 'late', 'december', 'peak', 'midfebruary', 'decrease', 'end', 'flu', 'season', 'may', '19', 'determine', 'severity', 'flu', 'season', 'overall', 'health', 'impact', 'eg', 'infection', 'hospitalization', 'death', 'flu', 'season', 'vary', 'year', 'year', 'severity', 'flu', 'season', 'judge', 'accord', 'variety', 'criterion', 'followingnthe', 'geographic', 'extent', 'influenza', 'us', 'within', 'statenthe', 'proportion', 'influenza', 'laboratory', 'test', 'positiventhe', 'proportion', 'visit', 'physician', 'influenzalike', 'illnessnthe', 'proportion', 'death', 'cause', 'pneumonia', 'flunthe', 'number', 'influenzaassociate', 'death', 'among', 'child', 'andnthe', 'influenzaassociate', 'hospitalization', 'rate', 'among', 'childrenna', 'flu', 'season', 'severity', 'determine', 'compare', 'measure', 'previous', 'season', 'flu', 'activity', 'occur', 'united', 'states', 'season', 'influenza', 'virus', 'identify', 'state', 'october', '1', '2006', 'may', '19', '2007', 'widespread', 'flu', 'activity', 'report', 'total', '41', 'state', 'across', 'region', 'country', '20062007', 'flu', 'season', 'peak', '20062007', 'season', 'flu', 'activity', 'united', 'states', 'peak', 'midfebruary', 'past', '31', 'year', 'flu', 'activity', 'united', 'states', 'peak', 'february', '45', 'percent', 'time', 'although', 'timing', 'peak', 'activity', 'vary', 'year', 'year', 'peak', 'activity', 'usually', 'occur', 'sometime', 'december', 'march', 'many', 'people', 'die', 'flu', '200607', 'season', 'exact', 'number', 'many', 'people', 'die', 'flu', 'season', 'determine', 'fluassociate', 'death', 'nationally', 'notifiable', 'condition', 'among', 'child', 'state', 'require', 'report', 'flu', 'case', 'report', 'adult', 'death', 'influenza', 'cdc', 'addition', 'many', 'people', 'die', 'complication', 'flu', 'infection', 'test', 'flu', 'seek', 'medical', 'care', 'later', 'illness', 'influenza', 'long', 'detect', 'respiratory', 'sample', 'however', 'cdc', 'track', 'pneumonia', 'flu', 'death', '122', 'city', 'mortality', 'reporting', 'system', 'system', 'collect', 'information', 'week', 'total', 'number', 'death', 'certificate', 'file', '122', 'participate', 'city', 'number', 'death', 'certificate', 'pneumonia', 'influenza', 'list', 'cause', 'death', 'system', 'help', 'gauge', 'severity', 'flu', 'season', 'compare', 'year', 'specifically', 'estimate', 'number', 'fluassociate', 'death', 'estimate', 'fluassociate', 'death', 'make', 'model', 'death', 'certificate', 'datum', 'national', 'center', 'health', 'statistic', 'cdc', 'influenza', 'virus', 'surveillance', 'datum', 'information', 'influenza', 'mortality', 'modeling', 'influenza', 'virus', 'circulate', 'season', 'influenza', 'virus', 'account', '79', 'percent', 'specimen', 'test', 'positive', 'flu', 'submit', 'cdc', 'influenza', 'b', 'virus', 'account', '21', 'percent', 'particular', 'subtype', 'influenza', 'call', 'influenza', 'h1', 'predominate', 'season', 'however', 'begin', 'early', 'march', 'continue', 'may', 'influenza', 'h3', 'virus', 'report', 'frequently', 'influenza', 'h1', 'virus', 'good', 'match', 'influenza', 'strain', 'select', 'vaccine', 'strain', 'circulate', '200607', 'season', 'influenza', 'h1', 'component', '200607', 'flu', 'vaccine', 'well', 'match', 'circulate', 'influenza', 'h1', 'virus', 'account', 'majority', 'influenza', 'virus', 'test', 'cdc', 'two', 'group', 'influenza', 'b', 'virus', 'currently', 'circulate', 'know', 'byamagata', 'lineage', 'virus', 'bvictoria', 'lineage', 'viruse', '200607', 'vaccine', 'contain', 'b', 'virus', 'bvictoria', 'lineage', '77', 'virus', 'test', 'cdc', 'bvictoria', 'lineage', 'fifty', 'percent', 'influenza', 'b', 'virus', 'characterize', 'belong', 'bvictoria', 'lineage', 'well', 'match', 'influenza', 'b', 'component', '200607', 'flu', 'vaccine', 'early', 'month', 'season', 'majority', 'influenza', 'h3', 'virus', 'circulate', 'country', 'match', 'influenza', 'h3n2', 'component', '200607', 'vaccine', 'however', 'proportion', 'h3n2', 'virus', 'similar', 'h3n2', 'vaccine', 'component', 'decline', 'season', 'progress', 'overall', '200607', 'season', '24', 'percent', 'h3n2', 'virus', 'well', 'match', 'vaccine', 'strain', 'flu', 'death', 'child', 'fluassociate', 'death', 'child', 'define', 'person', '18', 'year', 'age', 'young', 'first', 'become', 'nationally', 'notifiable', 'condition', '200405', 'flu', 'season', 'report', 'national', 'notifiable', 'disease', 'surveillance', 'system', 'nndss', 'however', 'cdc', 'first', 'ask', 'flu', 'death', 'child', 'report', 'cdc', '200304', 'season', 'number', 'fluassociate', 'death', 'among', 'child', 'report', '200607', 'flu', 'season', 'find', 'protect', 'child', 'fluassociate', 'illness', 'death', 'vaccination', 'remain', 'good', 'method', 'prevent', 'flu', 'potentially', 'severe', 'complication', 'child', 'october', 'november', 'good', 'time', 'get', 'vaccinated', 'getting', 'vaccinate', 'december', 'even', 'later', 'still', 'beneficial', 'since', 'flu', 'activity', 'occur', 'january', 'later', 'year', 'though', 'vary', 'flu', 'season', 'last', 'late', 'may', 'sporadic', 'case', 'flu', 'occur', 'year', 'roundnall', 'child', '6', 'month', 'age', '5th', 'birthday', 'recommend', 'influenza', 'vaccination', 'addition', 'child', 'chronic', 'medical', 'condition', 'asthma', 'get', 'flu', 'vaccine', 'household', 'contact', 'caregiver', 'child', 'also', 'recommend', 'annual', 'vaccinationnchildren', 'young', '6', 'month', 'age', 'high', 'risk', 'influenza', 'complication', 'young', 'get', 'flu', 'vaccine', 'good', 'way', 'protect', 'child', 'vaccinate', 'household', 'member', 'outofhome', 'caregiversnchildren', 'receive', 'flu', 'vaccine', 'first', 'time', 'need', 'receive', 'two', 'dose', 'first', 'year', 'first', 'dose', 'ideally', 'give', 'september', 'inactivated', 'vaccine', 'flu', 'shoot', 'second', 'dose', 'give', 'four', 'week', 'first', 'dose', 'live', 'attenuate', 'flu', 'vaccine', 'nasal', 'spray', 'vaccine', 'second', 'dose', 'administer', 'six', 'week', 'first', 'dose', 'flu', 'shot', 'approve', 'child', '6', 'month', 'age', 'old', 'nasal', 'spray', 'vaccine', 'approve', 'healthy', 'child', '5', 'year', 'age', 'old', 'child', 'asthma', 'condition', 'get', 'flu', 'shot', 'instead', 'nasal', 'spray', 'novel', 'influenza', 'virus', 'novel', 'influenza', 'virus', 'virus', 'find', 'human', 'ordinary', 'human', 'subtype', 'many', 'novel', 'flu', 'virus', 'originate', 'animal', 'bird', 'pig', 'subtype', 'standard', 'method', 'january', '2007', 'council', 'state', 'territorial', 'epidemiologist', 'vote', 'add', 'human', 'infection', 'novel', 'influenza', 'virus', 'list', 'nationally', 'notifiable', 'disease', 'condition', 'reportable', 'national', 'notifiable', 'disease', 'surveillance', 'system', 'track', 'novel', 'virus', 'useful', 'people', 'antibody', 'novel', 'influenza', 'virus', 'novel', 'influenza', 'virus', 'infect', 'person', 'able', 'spread', 'easily', 'one', 'person', 'another', 'person', 'global', 'epidemic', 'also', 'know', 'pandemic', 'could', 'begin', 'early', 'detection', 'timely', 'reporting', 'human', 'infection', 'novel', 'influenza', 'virus', 'allow', 'rapid', 'assessment', 'situation', 'early', 'implementation', 'appropriate', 'public', 'health', 'response']\n"
     ]
    }
   ],
   "source": [
    "print(token_list)"
   ]
  },
  {
   "cell_type": "markdown",
   "metadata": {},
   "source": [
    "### Word count"
   ]
  },
  {
   "cell_type": "code",
   "execution_count": 19,
   "metadata": {},
   "outputs": [],
   "source": [
    "from nltk.tokenize import word_tokenize\n",
    "from nltk.probability import FreqDist\n",
    "\n",
    "\n",
    "def word_count(cleaned_tokens):\n",
    "  # Calculate word frequencies\n",
    "  word_freq = FreqDist(cleaned_tokens)\n",
    "\n",
    "  # Convert word frequencies to a DataFrame for seaborn\n",
    "  data = {'Word': __builtins__.list(word_freq.keys()), 'Frequency': __builtins__.list(word_freq.values())}\n",
    "  df_word_freq = pd.DataFrame(data)\n",
    "\n",
    "  # Sort DataFrame by frequency in descending order\n",
    "  df_word_freq = df_word_freq.sort_values(by='Frequency', ascending=False)\n",
    "  print(df_word_freq.head(60))\n",
    "\n",
    "  return df_word_freq"
   ]
  },
  {
   "cell_type": "code",
   "execution_count": 20,
   "metadata": {},
   "outputs": [
    {
     "name": "stdout",
     "output_type": "stream",
     "text": [
      "             Word  Frequency\n",
      "1             flu         48\n",
      "35      influenza         34\n",
      "2          season         31\n",
      "94          virus         26\n",
      "33          death         19\n",
      "43          child         16\n",
      "182       vaccine         14\n",
      "7        activity         12\n",
      "68           year         11\n",
      "0          200607         11\n",
      "5          report         10\n",
      "4           first          9\n",
      "125           cdc          8\n",
      "273         novel          8\n",
      "119  fluassociate          6\n",
      "88         number          6\n",
      "253          dose          6\n",
      "54           peak          6\n",
      "206           age          5\n",
      "179         match          5\n",
      "42          among          5\n",
      "190       lineage          5\n",
      "32     proportion          5\n",
      "22          state          5\n",
      "141        system          5\n",
      "45        however          5\n",
      "108       percent          5\n",
      "79           test          5\n",
      "120    notifiable          5\n",
      "166             b          5\n",
      "160     circulate          5\n",
      "121     condition          5\n",
      "198         month          4\n",
      "116        people          4\n",
      "204        person          4\n",
      "199          h3n2          4\n",
      "174         early          4\n",
      "58            may          4\n",
      "93          occur          4\n",
      "178          good          4\n",
      "61       severity          4\n",
      "66      infection          4\n",
      "183     component          4\n",
      "171            h1          4\n",
      "48     nationally          4\n",
      "191     bvictoria          4\n",
      "115          many          4\n",
      "10         united          4\n",
      "12           week          4\n",
      "274         human          4\n",
      "221           get          4\n",
      "19            two          4\n",
      "38       previous          4\n",
      "11         states          4\n",
      "169       subtype          3\n",
      "234             6          3\n",
      "127  complication          3\n",
      "131         later          3\n",
      "161       account          3\n",
      "21         region          3\n"
     ]
    }
   ],
   "source": [
    "df_word_freq = word_count(token_list)"
   ]
  },
  {
   "cell_type": "markdown",
   "metadata": {},
   "source": [
    "### Word Cloud"
   ]
  },
  {
   "cell_type": "code",
   "execution_count": null,
   "metadata": {},
   "outputs": [],
   "source": [
    "def token2word(token):\n",
    "  word = ' '.join(token)\n",
    "  return word"
   ]
  },
  {
   "cell_type": "code",
   "execution_count": null,
   "metadata": {},
   "outputs": [],
   "source": [
    "word = token2word(token_list)"
   ]
  },
  {
   "cell_type": "code",
   "execution_count": null,
   "metadata": {},
   "outputs": [],
   "source": [
    "import matplotlib.pyplot as plt\n",
    "from wordcloud import WordCloud\n",
    "\n",
    "\n",
    "def wordcloud_vis(word):\n",
    "  # Generate word cloud\n",
    "  wordcloud = WordCloud(width=800, height=400, background_color='white').generate(word)\n",
    "\n",
    "  # Display the generated word cloud using matplotlib\n",
    "  plt.figure(figsize=(10, 5))\n",
    "  plt.imshow(wordcloud, interpolation='bilinear')\n",
    "  plt.axis('off')\n",
    "  plt.show()"
   ]
  },
  {
   "cell_type": "code",
   "execution_count": null,
   "metadata": {},
   "outputs": [],
   "source": [
    "wordcloud_vis(word)"
   ]
  },
  {
   "cell_type": "markdown",
   "metadata": {},
   "source": [
    "### Bar chart"
   ]
  },
  {
   "cell_type": "code",
   "execution_count": null,
   "metadata": {},
   "outputs": [],
   "source": [
    "def bar_chart_vis(token):\n",
    "\n",
    "  word_freq = FreqDist(token)\n",
    "  # Convert word frequencies to a DataFrame for seaborn\n",
    "  data = {'Word': __builtins__.list(word_freq.keys()), 'Frequency': __builtins__.list(word_freq.values())}\n",
    "  df_word_freq = pd.DataFrame(data)\n",
    "\n",
    "  # Sort DataFrame by frequency in descending order\n",
    "  df_word_freq = df_word_freq.sort_values(by='Frequency', ascending=False)\n",
    "\n",
    "  # Plot a bar chart using seaborn\n",
    "  plt.figure(figsize=(12, 6))\n",
    "  sns.barplot(x='Word', y='Frequency', data=df_word_freq.head(20), palette='viridis')\n",
    "  plt.title('Top 20 Most Frequent Words')\n",
    "  plt.xlabel('Words')\n",
    "  plt.ylabel('Frequency')\n",
    "  plt.xticks(rotation=45, ha='right')  # Rotate x-axis labels for better readability\n",
    "  plt.show()"
   ]
  },
  {
   "cell_type": "code",
   "execution_count": null,
   "metadata": {},
   "outputs": [],
   "source": [
    "bar_chart_vis(token_list)"
   ]
  },
  {
   "cell_type": "markdown",
   "metadata": {},
   "source": [
    "### Bubble chart"
   ]
  },
  {
   "cell_type": "code",
   "execution_count": null,
   "metadata": {},
   "outputs": [],
   "source": [
    "def bubble_chart_vis(cleaned_tokens):\n",
    "\n",
    "  # Calculate word frequencies\n",
    "  word_freq = FreqDist(cleaned_tokens)\n",
    "\n",
    "  # Create a DataFrame with word frequencies and lengths\n",
    "  data = {'Word': __builtins__.list(word_freq.keys()), 'Frequency': __builtins__.list(word_freq.values()), 'Length': [len(word) for word in word_freq.keys()]}\n",
    "  df_word_data = pd.DataFrame(data)\n",
    "\n",
    "  # Filter out words with frequency less than 2 for better visualization\n",
    "  df_word_data = df_word_data[df_word_data['Frequency'] >= 2]\n",
    "\n",
    "  # Plot a bubble chart using seaborn\n",
    "  plt.figure(figsize=(12, 8))\n",
    "  sns.scatterplot(x='Length', y='Frequency', size='Frequency', data=df_word_data, hue='Word', sizes=(50, 300), palette='viridis', alpha=0.8)\n",
    "  plt.title('Bubble Chart of Word Frequencies and Lengths')\n",
    "  plt.xlabel('Word Length')\n",
    "  plt.ylabel('Frequency')\n",
    "  plt.show()"
   ]
  },
  {
   "cell_type": "code",
   "execution_count": null,
   "metadata": {},
   "outputs": [],
   "source": [
    "bubble_chart_vis(token_list)"
   ]
  },
  {
   "cell_type": "markdown",
   "metadata": {},
   "source": [
    "### Network Diagram"
   ]
  },
  {
   "cell_type": "code",
   "execution_count": null,
   "metadata": {},
   "outputs": [],
   "source": [
    "def network_vis(df_word_freq):\n",
    "    token_rank = df_word_freq.head(20)\n",
    "    tr = token_rank['Word'].tolist()\n",
    "\n",
    "    # Create a graph using networkx\n",
    "    G = nx.Graph()\n",
    "\n",
    "    # Create edges between co-occurring words\n",
    "    for word1, word2 in combinations(tr, 2):\n",
    "        if G.has_edge(word1, word2):\n",
    "            G[word1][word2]['weight'] += 1\n",
    "        else:\n",
    "            G.add_edge(word1, word2, weight=1)\n",
    "\n",
    "    # Detect communities (clusters) in the graph\n",
    "    partition = community_louvain.best_partition(G)\n",
    "    # Map each community to a distinct color\n",
    "    community_colors = [partition[n] for n in G.nodes()]\n",
    "\n",
    "    # Set node size based on degree (number of connections)\n",
    "    node_size = [deg * 100 for deg in dict(G.degree()).values()]  # Adjusted size for better visibility\n",
    "\n",
    "    # Draw the network diagram with community-based coloring\n",
    "    plt.figure(figsize=(12, 12))\n",
    "    pos = nx.spring_layout(G, seed=42)  # For consistent layout\n",
    "    nx.draw(G, pos, with_labels=True, font_size=8, node_size=node_size,\n",
    "            cmap=plt.cm.jet, node_color=community_colors, font_color='white',\n",
    "            edge_color='gray', font_weight='bold', alpha=0.7)\n",
    "    plt.title('Text Network Diagram based on Word Co-occurrence with Clustering')\n",
    "    plt.show()"
   ]
  },
  {
   "cell_type": "code",
   "execution_count": null,
   "metadata": {},
   "outputs": [],
   "source": [
    "network_vis(df_word_freq)"
   ]
  }
 ],
 "metadata": {
  "kernelspec": {
   "display_name": "nlp",
   "language": "python",
   "name": "python3"
  },
  "language_info": {
   "codemirror_mode": {
    "name": "ipython",
    "version": 3
   },
   "file_extension": ".py",
   "mimetype": "text/x-python",
   "name": "python",
   "nbconvert_exporter": "python",
   "pygments_lexer": "ipython3",
   "version": "3.11.5"
  }
 },
 "nbformat": 4,
 "nbformat_minor": 2
}
