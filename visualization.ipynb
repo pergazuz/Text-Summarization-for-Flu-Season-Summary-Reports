{
 "cells": [
  {
   "cell_type": "code",
   "execution_count": null,
   "metadata": {},
   "outputs": [],
   "source": [
    "import ast\n",
    "import pandas as pd\n",
    "import networkx as nx\n",
    "import seaborn as sns\n",
    "import matplotlib.pyplot as plt\n",
    "import community as community_louvain\n",
    "from itertools import combinations\n",
    "\n",
    "import nltk\n",
    "from nltk.tokenize import word_tokenize\n",
    "from nltk.probability import FreqDist"
   ]
  },
  {
   "cell_type": "code",
   "execution_count": null,
   "metadata": {},
   "outputs": [],
   "source": [
    "df = pd.read_csv('data/flu_data_token.csv')\n",
    "df"
   ]
  },
  {
   "cell_type": "code",
   "execution_count": null,
   "metadata": {},
   "outputs": [],
   "source": [
    "token: list = df['Token'][0]"
   ]
  },
  {
   "cell_type": "code",
   "execution_count": null,
   "metadata": {},
   "outputs": [],
   "source": [
    "token_list = ast.literal_eval(token)"
   ]
  },
  {
   "cell_type": "code",
   "execution_count": null,
   "metadata": {},
   "outputs": [],
   "source": [
    "print(token_list)"
   ]
  },
  {
   "cell_type": "markdown",
   "metadata": {},
   "source": [
    "### Word count"
   ]
  },
  {
   "cell_type": "code",
   "execution_count": null,
   "metadata": {},
   "outputs": [],
   "source": [
    "from nltk.tokenize import word_tokenize\n",
    "from nltk.probability import FreqDist\n",
    "\n",
    "\n",
    "def word_count(cleaned_tokens):\n",
    "  # Calculate word frequencies\n",
    "  word_freq = FreqDist(cleaned_tokens)\n",
    "\n",
    "  # Convert word frequencies to a DataFrame for seaborn\n",
    "  data = {'Word': __builtins__.list(word_freq.keys()), 'Frequency': __builtins__.list(word_freq.values())}\n",
    "  df_word_freq = pd.DataFrame(data)\n",
    "\n",
    "  # Sort DataFrame by frequency in descending order\n",
    "  df_word_freq = df_word_freq.sort_values(by='Frequency', ascending=False)\n",
    "  print(df_word_freq.head(60))\n",
    "\n",
    "  return df_word_freq"
   ]
  },
  {
   "cell_type": "code",
   "execution_count": null,
   "metadata": {},
   "outputs": [],
   "source": [
    "df_word_freq = word_count(token_list)"
   ]
  },
  {
   "cell_type": "markdown",
   "metadata": {},
   "source": [
    "### Word Cloud"
   ]
  },
  {
   "cell_type": "code",
   "execution_count": null,
   "metadata": {},
   "outputs": [],
   "source": [
    "def token2word(token):\n",
    "  word = ' '.join(token)\n",
    "  return word"
   ]
  },
  {
   "cell_type": "code",
   "execution_count": null,
   "metadata": {},
   "outputs": [],
   "source": [
    "word = token2word(token_list)"
   ]
  },
  {
   "cell_type": "code",
   "execution_count": null,
   "metadata": {},
   "outputs": [],
   "source": [
    "import matplotlib.pyplot as plt\n",
    "from wordcloud import WordCloud\n",
    "\n",
    "\n",
    "def wordcloud_vis(word):\n",
    "  # Generate word cloud\n",
    "  wordcloud = WordCloud(width=800, height=400, background_color='white').generate(word)\n",
    "\n",
    "  # Display the generated word cloud using matplotlib\n",
    "  plt.figure(figsize=(10, 5))\n",
    "  plt.imshow(wordcloud, interpolation='bilinear')\n",
    "  plt.axis('off')\n",
    "  plt.show()"
   ]
  },
  {
   "cell_type": "code",
   "execution_count": null,
   "metadata": {},
   "outputs": [],
   "source": [
    "wordcloud_vis(word)"
   ]
  },
  {
   "cell_type": "markdown",
   "metadata": {},
   "source": [
    "### Bar chart"
   ]
  },
  {
   "cell_type": "code",
   "execution_count": null,
   "metadata": {},
   "outputs": [],
   "source": [
    "def bar_chart_vis(token):\n",
    "\n",
    "  word_freq = FreqDist(token)\n",
    "  # Convert word frequencies to a DataFrame for seaborn\n",
    "  data = {'Word': __builtins__.list(word_freq.keys()), 'Frequency': __builtins__.list(word_freq.values())}\n",
    "  df_word_freq = pd.DataFrame(data)\n",
    "\n",
    "  # Sort DataFrame by frequency in descending order\n",
    "  df_word_freq = df_word_freq.sort_values(by='Frequency', ascending=False)\n",
    "\n",
    "  # Plot a bar chart using seaborn\n",
    "  plt.figure(figsize=(12, 6))\n",
    "  sns.barplot(x='Word', y='Frequency', data=df_word_freq.head(20), palette='viridis')\n",
    "  plt.title('Top 20 Most Frequent Words')\n",
    "  plt.xlabel('Words')\n",
    "  plt.ylabel('Frequency')\n",
    "  plt.xticks(rotation=45, ha='right')  # Rotate x-axis labels for better readability\n",
    "  plt.show()"
   ]
  },
  {
   "cell_type": "code",
   "execution_count": null,
   "metadata": {},
   "outputs": [],
   "source": [
    "bar_chart_vis(token_list)"
   ]
  },
  {
   "cell_type": "markdown",
   "metadata": {},
   "source": [
    "### Bubble chart"
   ]
  },
  {
   "cell_type": "code",
   "execution_count": null,
   "metadata": {},
   "outputs": [],
   "source": [
    "def bubble_chart_vis(cleaned_tokens):\n",
    "\n",
    "  # Calculate word frequencies\n",
    "  word_freq = FreqDist(cleaned_tokens)\n",
    "\n",
    "  # Create a DataFrame with word frequencies and lengths\n",
    "  data = {'Word': __builtins__.list(word_freq.keys()), 'Frequency': __builtins__.list(word_freq.values()), 'Length': [len(word) for word in word_freq.keys()]}\n",
    "  df_word_data = pd.DataFrame(data)\n",
    "\n",
    "  # Filter out words with frequency less than 2 for better visualization\n",
    "  df_word_data = df_word_data[df_word_data['Frequency'] >= 2]\n",
    "\n",
    "  # Plot a bubble chart using seaborn\n",
    "  plt.figure(figsize=(12, 8))\n",
    "  sns.scatterplot(x='Length', y='Frequency', size='Frequency', data=df_word_data, hue='Word', sizes=(50, 300), palette='viridis', alpha=0.8)\n",
    "  plt.title('Bubble Chart of Word Frequencies and Lengths')\n",
    "  plt.xlabel('Word Length')\n",
    "  plt.ylabel('Frequency')\n",
    "  plt.show()"
   ]
  },
  {
   "cell_type": "code",
   "execution_count": null,
   "metadata": {},
   "outputs": [],
   "source": [
    "bubble_chart_vis(token_list)"
   ]
  },
  {
   "cell_type": "markdown",
   "metadata": {},
   "source": [
    "### Network Diagram"
   ]
  },
  {
   "cell_type": "code",
   "execution_count": null,
   "metadata": {},
   "outputs": [],
   "source": [
    "def network_vis(df_word_freq):\n",
    "    token_rank = df_word_freq.head(20)\n",
    "    tr = token_rank['Word'].tolist()\n",
    "\n",
    "    # Create a graph using networkx\n",
    "    G = nx.Graph()\n",
    "\n",
    "    # Create edges between co-occurring words\n",
    "    for word1, word2 in combinations(tr, 2):\n",
    "        if G.has_edge(word1, word2):\n",
    "            G[word1][word2]['weight'] += 1\n",
    "        else:\n",
    "            G.add_edge(word1, word2, weight=1)\n",
    "\n",
    "    # Detect communities (clusters) in the graph\n",
    "    partition = community_louvain.best_partition(G)\n",
    "    # Map each community to a distinct color\n",
    "    community_colors = [partition[n] for n in G.nodes()]\n",
    "\n",
    "    # Set node size based on degree (number of connections)\n",
    "    node_size = [deg * 100 for deg in dict(G.degree()).values()]  # Adjusted size for better visibility\n",
    "\n",
    "    # Draw the network diagram with community-based coloring\n",
    "    plt.figure(figsize=(12, 12))\n",
    "    pos = nx.spring_layout(G, seed=42)  # For consistent layout\n",
    "    nx.draw(G, pos, with_labels=True, font_size=8, node_size=node_size,\n",
    "            cmap=plt.cm.jet, node_color=community_colors, font_color='white',\n",
    "            edge_color='gray', font_weight='bold', alpha=0.7)\n",
    "    plt.title('Text Network Diagram based on Word Co-occurrence with Clustering')\n",
    "    plt.show()"
   ]
  },
  {
   "cell_type": "code",
   "execution_count": null,
   "metadata": {},
   "outputs": [],
   "source": [
    "network_vis(df_word_freq)"
   ]
  },
  {
   "cell_type": "code",
   "execution_count": null,
   "metadata": {},
   "outputs": [],
   "source": []
  }
 ],
 "metadata": {
  "kernelspec": {
   "display_name": "nlp",
   "language": "python",
   "name": "python3"
  },
  "language_info": {
   "codemirror_mode": {
    "name": "ipython",
    "version": 3
   },
   "file_extension": ".py",
   "mimetype": "text/x-python",
   "name": "python",
   "nbconvert_exporter": "python",
   "pygments_lexer": "ipython3",
   "version": "3.11.5"
  }
 },
 "nbformat": 4,
 "nbformat_minor": 2
}
