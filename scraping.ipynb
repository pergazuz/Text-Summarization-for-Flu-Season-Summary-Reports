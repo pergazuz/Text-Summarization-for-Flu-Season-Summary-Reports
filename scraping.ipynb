{
 "cells": [
  {
   "cell_type": "code",
   "execution_count": 6,
   "metadata": {},
   "outputs": [],
   "source": [
    "from bs4 import BeautifulSoup\n",
    "import requests\n",
    "import re\n",
    "import pandas as pd"
   ]
  },
  {
   "cell_type": "code",
   "execution_count": 30,
   "metadata": {},
   "outputs": [],
   "source": [
    "def scraping(url: str):\n",
    "    '''\n",
    "    Fetches content from a given URL and returns the relevant div content.\n",
    "    '''\n",
    "    response = requests.get(url)\n",
    "    response.raise_for_status()\n",
    "\n",
    "    soup = BeautifulSoup(response.text, \"html.parser\")\n",
    "    content = soup.find_all(\"div\", attrs={\"class\": 'cdc-textblock'})\n",
    "    return content\n",
    "\n",
    "def clean_text(content):\n",
    "    '''\n",
    "    Cleans the text extracted from HTML tags, removing extra spaces.\n",
    "    '''\n",
    "    text = \"\"\n",
    "    for i in content:\n",
    "        text += i.text\n",
    "    # Compact multiple spaces into a single space.\n",
    "    text = re.sub(r'\\s+', ' ', text)\n",
    "    return text\n",
    "\n",
    "def extract_and_clean_content(urls, years):\n",
    "    '''\n",
    "    Iterates over a list of URLs, scrapes and cleans content from each, inputs the year manually,\n",
    "    and returns a DataFrame with the results.\n",
    "    '''\n",
    "    data = {'Year': [], 'Content': []}\n",
    "    for url, year in zip(urls, years):\n",
    "        content = scraping(url)\n",
    "        cleaned_content = clean_text(content)\n",
    "        data['Year'].append(year)\n",
    "        data['Content'].append(cleaned_content)\n",
    "    \n",
    "    return pd.DataFrame(data)"
   ]
  },
  {
   "cell_type": "code",
   "execution_count": 31,
   "metadata": {},
   "outputs": [],
   "source": [
    "urls = [\n",
    "    # \"https://archive.cdc.gov/#/details?url=https://www.cdc.gov/flu/pastseasons/1415season.htm\",\n",
    "    # \"https://archive.cdc.gov/#/details?url=https://www.cdc.gov/flu/about/season/flu-season-2015-2016.htm\",\n",
    "    # \"https://archive.cdc.gov/#/details?url=https://www.cdc.gov/flu/about/season/flu-season-2016-2017.htm\", \n",
    "    # \"https://archive.cdc.gov/#/details?url=https://www.cdc.gov/flu/about/season/flu-season-2017-2018.htm\",\n",
    "    \"https://www.cdc.gov/flu/about/season/flu-season-2018-2019.htm\", \n",
    "    \"https://www.cdc.gov/flu/season/faq-flu-season-2019-2020.htm\",\n",
    "    \"https://www.cdc.gov/flu/season/faq-flu-season-2020-2021.htm\",\n",
    "    \"https://www.cdc.gov/flu/season/faq-flu-season-2021-2022.htm\", \n",
    "    \"https://www.cdc.gov/flu/season/faq-flu-season-2022-2023.htm\"\n",
    "]"
   ]
  },
  {
   "cell_type": "code",
   "execution_count": 32,
   "metadata": {},
   "outputs": [],
   "source": [
    "years = [\n",
    "    \"2018-2019\",\n",
    "    \"2019-2020\",\n",
    "    \"2020-2021\",\n",
    "    \"2021-2022\",\n",
    "    \"2022-2023\"\n",
    "]"
   ]
  },
  {
   "cell_type": "code",
   "execution_count": 33,
   "metadata": {},
   "outputs": [],
   "source": [
    "df = extract_and_clean_content(urls, years)"
   ]
  },
  {
   "cell_type": "code",
   "execution_count": 34,
   "metadata": {},
   "outputs": [
    {
     "name": "stdout",
     "output_type": "stream",
     "text": [
      "        Year                                            Content\n",
      "0  2018-2019  What’s new this flu season? A few things are n...\n",
      "1  2019-2020  What’s new this flu season? A few things are n...\n",
      "2  2020-2021  2020-21 Flu Season Summary FAQ Summary What wa...\n",
      "3  2021-2022  Summary What was the 2021-2022 flu season like...\n",
      "4  2022-2023  What’s New for 2022-2023 A few things are diff...\n"
     ]
    }
   ],
   "source": [
    "print(df)"
   ]
  },
  {
   "cell_type": "markdown",
   "metadata": {},
   "source": [
    "## Save to csv"
   ]
  },
  {
   "cell_type": "code",
   "execution_count": 15,
   "metadata": {},
   "outputs": [],
   "source": [
    "df.to_csv('flu_data.csv', index=False)"
   ]
  }
 ],
 "metadata": {
  "kernelspec": {
   "display_name": "nlp",
   "language": "python",
   "name": "python3"
  },
  "language_info": {
   "codemirror_mode": {
    "name": "ipython",
    "version": 3
   },
   "file_extension": ".py",
   "mimetype": "text/x-python",
   "name": "python",
   "nbconvert_exporter": "python",
   "pygments_lexer": "ipython3",
   "version": "3.11.5"
  }
 },
 "nbformat": 4,
 "nbformat_minor": 2
}
