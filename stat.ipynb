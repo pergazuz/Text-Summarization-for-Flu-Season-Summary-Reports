{
 "cells": [
  {
   "cell_type": "code",
   "execution_count": 6,
   "metadata": {
    "ExecuteTime": {
     "end_time": "2024-04-30T06:06:39.569107Z",
     "start_time": "2024-04-30T06:06:39.481734Z"
    }
   },
   "outputs": [
    {
     "data": {
      "text/plain": "  Question_1  Unnamed: 1 Unnamed: 2  Unnamed: 3 Question_2  Unnamed: 5  \\\n0    Model_A     Model_B    Model_C     Model_D    Model_A     Model_B   \n1  4th (Bad)         3rd        2nd  1st (Best)  4th (Bad)  1st (Best)   \n2        3rd  1st (Best)        2nd   4th (Bad)  4th (Bad)         2nd   \n3  4th (Bad)         3rd        2nd  1st (Best)  4th (Bad)         2nd   \n4  4th (Bad)         2nd        3rd  1st (Best)  4th (Bad)         2nd   \n\n  Unnamed: 6  Unnamed: 7 Question_3  Unnamed: 9  ... Unnamed: 30 Unnamed: 31  \\\n0    Model_C     Model_D    Model_A     Model_B  ...     Model_C     Model_D   \n1        3rd         2nd        2nd  1st (Best)  ...   4th (Bad)         2nd   \n2        3rd  1st (Best)  4th (Bad)         3rd  ...         2nd  1st (Best)   \n3        3rd  1st (Best)  4th (Bad)         3rd  ...   4th (Bad)         3rd   \n4        3rd  1st (Best)  4th (Bad)         2nd  ...   4th (Bad)         3rd   \n\n   Question_9 Unnamed: 33 Unnamed: 34 Unnamed: 35 Question_10 Unnamed: 37  \\\n0     Model_A     Model_B     Model_C     Model_D     Model_A     Model_B   \n1  1st (Best)   4th (Bad)         2nd         3rd  1st (Best)   4th (Bad)   \n2   4th (Bad)  1st (Best)         3rd         2nd   4th (Bad)  1st (Best)   \n3         2nd   4th (Bad)         3rd  1st (Best)  1st (Best)   4th (Bad)   \n4         2nd   4th (Bad)         3rd  1st (Best)   4th (Bad)         3rd   \n\n  Unnamed: 38 Unnamed: 39  \n0     Model_C     Model_D  \n1         3rd         2nd  \n2         3rd         2nd  \n3         3rd         2nd  \n4         2nd  1st (Best)  \n\n[5 rows x 40 columns]",
      "text/html": "<div>\n<style scoped>\n    .dataframe tbody tr th:only-of-type {\n        vertical-align: middle;\n    }\n\n    .dataframe tbody tr th {\n        vertical-align: top;\n    }\n\n    .dataframe thead th {\n        text-align: right;\n    }\n</style>\n<table border=\"1\" class=\"dataframe\">\n  <thead>\n    <tr style=\"text-align: right;\">\n      <th></th>\n      <th>Question_1</th>\n      <th>Unnamed: 1</th>\n      <th>Unnamed: 2</th>\n      <th>Unnamed: 3</th>\n      <th>Question_2</th>\n      <th>Unnamed: 5</th>\n      <th>Unnamed: 6</th>\n      <th>Unnamed: 7</th>\n      <th>Question_3</th>\n      <th>Unnamed: 9</th>\n      <th>...</th>\n      <th>Unnamed: 30</th>\n      <th>Unnamed: 31</th>\n      <th>Question_9</th>\n      <th>Unnamed: 33</th>\n      <th>Unnamed: 34</th>\n      <th>Unnamed: 35</th>\n      <th>Question_10</th>\n      <th>Unnamed: 37</th>\n      <th>Unnamed: 38</th>\n      <th>Unnamed: 39</th>\n    </tr>\n  </thead>\n  <tbody>\n    <tr>\n      <th>0</th>\n      <td>Model_A</td>\n      <td>Model_B</td>\n      <td>Model_C</td>\n      <td>Model_D</td>\n      <td>Model_A</td>\n      <td>Model_B</td>\n      <td>Model_C</td>\n      <td>Model_D</td>\n      <td>Model_A</td>\n      <td>Model_B</td>\n      <td>...</td>\n      <td>Model_C</td>\n      <td>Model_D</td>\n      <td>Model_A</td>\n      <td>Model_B</td>\n      <td>Model_C</td>\n      <td>Model_D</td>\n      <td>Model_A</td>\n      <td>Model_B</td>\n      <td>Model_C</td>\n      <td>Model_D</td>\n    </tr>\n    <tr>\n      <th>1</th>\n      <td>4th (Bad)</td>\n      <td>3rd</td>\n      <td>2nd</td>\n      <td>1st (Best)</td>\n      <td>4th (Bad)</td>\n      <td>1st (Best)</td>\n      <td>3rd</td>\n      <td>2nd</td>\n      <td>2nd</td>\n      <td>1st (Best)</td>\n      <td>...</td>\n      <td>4th (Bad)</td>\n      <td>2nd</td>\n      <td>1st (Best)</td>\n      <td>4th (Bad)</td>\n      <td>2nd</td>\n      <td>3rd</td>\n      <td>1st (Best)</td>\n      <td>4th (Bad)</td>\n      <td>3rd</td>\n      <td>2nd</td>\n    </tr>\n    <tr>\n      <th>2</th>\n      <td>3rd</td>\n      <td>1st (Best)</td>\n      <td>2nd</td>\n      <td>4th (Bad)</td>\n      <td>4th (Bad)</td>\n      <td>2nd</td>\n      <td>3rd</td>\n      <td>1st (Best)</td>\n      <td>4th (Bad)</td>\n      <td>3rd</td>\n      <td>...</td>\n      <td>2nd</td>\n      <td>1st (Best)</td>\n      <td>4th (Bad)</td>\n      <td>1st (Best)</td>\n      <td>3rd</td>\n      <td>2nd</td>\n      <td>4th (Bad)</td>\n      <td>1st (Best)</td>\n      <td>3rd</td>\n      <td>2nd</td>\n    </tr>\n    <tr>\n      <th>3</th>\n      <td>4th (Bad)</td>\n      <td>3rd</td>\n      <td>2nd</td>\n      <td>1st (Best)</td>\n      <td>4th (Bad)</td>\n      <td>2nd</td>\n      <td>3rd</td>\n      <td>1st (Best)</td>\n      <td>4th (Bad)</td>\n      <td>3rd</td>\n      <td>...</td>\n      <td>4th (Bad)</td>\n      <td>3rd</td>\n      <td>2nd</td>\n      <td>4th (Bad)</td>\n      <td>3rd</td>\n      <td>1st (Best)</td>\n      <td>1st (Best)</td>\n      <td>4th (Bad)</td>\n      <td>3rd</td>\n      <td>2nd</td>\n    </tr>\n    <tr>\n      <th>4</th>\n      <td>4th (Bad)</td>\n      <td>2nd</td>\n      <td>3rd</td>\n      <td>1st (Best)</td>\n      <td>4th (Bad)</td>\n      <td>2nd</td>\n      <td>3rd</td>\n      <td>1st (Best)</td>\n      <td>4th (Bad)</td>\n      <td>2nd</td>\n      <td>...</td>\n      <td>4th (Bad)</td>\n      <td>3rd</td>\n      <td>2nd</td>\n      <td>4th (Bad)</td>\n      <td>3rd</td>\n      <td>1st (Best)</td>\n      <td>4th (Bad)</td>\n      <td>3rd</td>\n      <td>2nd</td>\n      <td>1st (Best)</td>\n    </tr>\n  </tbody>\n</table>\n<p>5 rows × 40 columns</p>\n</div>"
     },
     "execution_count": 6,
     "metadata": {},
     "output_type": "execute_result"
    }
   ],
   "source": [
    "import pandas as pd\n",
    "\n",
    "# Load the CSV file to inspect the data\n",
    "file_path = 'data/Human_Evaluation.csv'\n",
    "data = pd.read_csv(file_path)\n",
    "\n",
    "# Display the first few rows and the structure of the data\n",
    "data.head()"
   ]
  },
  {
   "cell_type": "code",
   "execution_count": 8,
   "metadata": {
    "ExecuteTime": {
     "end_time": "2024-04-30T06:07:51.374926Z",
     "start_time": "2024-04-30T06:07:51.350355Z"
    }
   },
   "outputs": [
    {
     "data": {
      "text/plain": "   humen number  Question_1_Model_A  Question_1_Model_B  Question_1_Model_C  \\\n1             1                 4.0                 3.0                 2.0   \n2             2                 3.0                 1.0                 2.0   \n3             3                 4.0                 3.0                 2.0   \n4             4                 4.0                 2.0                 3.0   \n5             5                 4.0                 3.0                 2.0   \n\n   Question_1_Model_D  Question_2_Model_A  Question_2_Model_B  \\\n1                 1.0                 4.0                 1.0   \n2                 4.0                 4.0                 2.0   \n3                 1.0                 4.0                 2.0   \n4                 1.0                 4.0                 2.0   \n5                 1.0                 4.0                 3.0   \n\n   Question_2_Model_C  Question_2_Model_D  Question_3_Model_A  ...  \\\n1                 3.0                 2.0                 2.0  ...   \n2                 3.0                 1.0                 4.0  ...   \n3                 3.0                 1.0                 4.0  ...   \n4                 3.0                 1.0                 4.0  ...   \n5                 2.0                 1.0                 4.0  ...   \n\n   Question_8_Model_C  Question_8_Model_D  Question_9_Model_A  \\\n1                 4.0                 2.0                 1.0   \n2                 2.0                 1.0                 4.0   \n3                 4.0                 3.0                 2.0   \n4                 4.0                 3.0                 2.0   \n5                 2.0                 1.0                 4.0   \n\n   Question_9_Model_B  Question_9_Model_C  Question_9_Model_D  \\\n1                 4.0                 2.0                 3.0   \n2                 1.0                 3.0                 2.0   \n3                 4.0                 3.0                 1.0   \n4                 4.0                 3.0                 1.0   \n5                 3.0                 2.0                 1.0   \n\n   Question_10_Model_A  Question_10_Model_B  Question_10_Model_C  \\\n1                  1.0                  4.0                  3.0   \n2                  4.0                  1.0                  3.0   \n3                  1.0                  4.0                  3.0   \n4                  4.0                  3.0                  2.0   \n5                  4.0                  3.0                  2.0   \n\n   Question_10_Model_D  \n1                  2.0  \n2                  2.0  \n3                  2.0  \n4                  1.0  \n5                  1.0  \n\n[5 rows x 41 columns]",
      "text/html": "<div>\n<style scoped>\n    .dataframe tbody tr th:only-of-type {\n        vertical-align: middle;\n    }\n\n    .dataframe tbody tr th {\n        vertical-align: top;\n    }\n\n    .dataframe thead th {\n        text-align: right;\n    }\n</style>\n<table border=\"1\" class=\"dataframe\">\n  <thead>\n    <tr style=\"text-align: right;\">\n      <th></th>\n      <th>humen number</th>\n      <th>Question_1_Model_A</th>\n      <th>Question_1_Model_B</th>\n      <th>Question_1_Model_C</th>\n      <th>Question_1_Model_D</th>\n      <th>Question_2_Model_A</th>\n      <th>Question_2_Model_B</th>\n      <th>Question_2_Model_C</th>\n      <th>Question_2_Model_D</th>\n      <th>Question_3_Model_A</th>\n      <th>...</th>\n      <th>Question_8_Model_C</th>\n      <th>Question_8_Model_D</th>\n      <th>Question_9_Model_A</th>\n      <th>Question_9_Model_B</th>\n      <th>Question_9_Model_C</th>\n      <th>Question_9_Model_D</th>\n      <th>Question_10_Model_A</th>\n      <th>Question_10_Model_B</th>\n      <th>Question_10_Model_C</th>\n      <th>Question_10_Model_D</th>\n    </tr>\n  </thead>\n  <tbody>\n    <tr>\n      <th>1</th>\n      <td>1</td>\n      <td>4.0</td>\n      <td>3.0</td>\n      <td>2.0</td>\n      <td>1.0</td>\n      <td>4.0</td>\n      <td>1.0</td>\n      <td>3.0</td>\n      <td>2.0</td>\n      <td>2.0</td>\n      <td>...</td>\n      <td>4.0</td>\n      <td>2.0</td>\n      <td>1.0</td>\n      <td>4.0</td>\n      <td>2.0</td>\n      <td>3.0</td>\n      <td>1.0</td>\n      <td>4.0</td>\n      <td>3.0</td>\n      <td>2.0</td>\n    </tr>\n    <tr>\n      <th>2</th>\n      <td>2</td>\n      <td>3.0</td>\n      <td>1.0</td>\n      <td>2.0</td>\n      <td>4.0</td>\n      <td>4.0</td>\n      <td>2.0</td>\n      <td>3.0</td>\n      <td>1.0</td>\n      <td>4.0</td>\n      <td>...</td>\n      <td>2.0</td>\n      <td>1.0</td>\n      <td>4.0</td>\n      <td>1.0</td>\n      <td>3.0</td>\n      <td>2.0</td>\n      <td>4.0</td>\n      <td>1.0</td>\n      <td>3.0</td>\n      <td>2.0</td>\n    </tr>\n    <tr>\n      <th>3</th>\n      <td>3</td>\n      <td>4.0</td>\n      <td>3.0</td>\n      <td>2.0</td>\n      <td>1.0</td>\n      <td>4.0</td>\n      <td>2.0</td>\n      <td>3.0</td>\n      <td>1.0</td>\n      <td>4.0</td>\n      <td>...</td>\n      <td>4.0</td>\n      <td>3.0</td>\n      <td>2.0</td>\n      <td>4.0</td>\n      <td>3.0</td>\n      <td>1.0</td>\n      <td>1.0</td>\n      <td>4.0</td>\n      <td>3.0</td>\n      <td>2.0</td>\n    </tr>\n    <tr>\n      <th>4</th>\n      <td>4</td>\n      <td>4.0</td>\n      <td>2.0</td>\n      <td>3.0</td>\n      <td>1.0</td>\n      <td>4.0</td>\n      <td>2.0</td>\n      <td>3.0</td>\n      <td>1.0</td>\n      <td>4.0</td>\n      <td>...</td>\n      <td>4.0</td>\n      <td>3.0</td>\n      <td>2.0</td>\n      <td>4.0</td>\n      <td>3.0</td>\n      <td>1.0</td>\n      <td>4.0</td>\n      <td>3.0</td>\n      <td>2.0</td>\n      <td>1.0</td>\n    </tr>\n    <tr>\n      <th>5</th>\n      <td>5</td>\n      <td>4.0</td>\n      <td>3.0</td>\n      <td>2.0</td>\n      <td>1.0</td>\n      <td>4.0</td>\n      <td>3.0</td>\n      <td>2.0</td>\n      <td>1.0</td>\n      <td>4.0</td>\n      <td>...</td>\n      <td>2.0</td>\n      <td>1.0</td>\n      <td>4.0</td>\n      <td>3.0</td>\n      <td>2.0</td>\n      <td>1.0</td>\n      <td>4.0</td>\n      <td>3.0</td>\n      <td>2.0</td>\n      <td>1.0</td>\n    </tr>\n  </tbody>\n</table>\n<p>5 rows × 41 columns</p>\n</div>"
     },
     "execution_count": 8,
     "metadata": {},
     "output_type": "execute_result"
    }
   ],
   "source": [
    "# Strip the data frame from any redundant columns and rows (like headers repeated)\n",
    "data_cleaned = data.iloc[1:, :].copy()  # Ignore the first row which repeats the model names\n",
    "\n",
    "# Rename columns based on the content: each question block has 4 columns for 4 models\n",
    "columns = []\n",
    "for i in range(1, 11):  # Assuming there are 10 questions from the data head\n",
    "    for model in ['Model_A', 'Model_B', 'Model_C', 'Model_D']:\n",
    "        columns.append(f\"Question_{i}_{model}\")\n",
    "\n",
    "data_cleaned.columns = columns\n",
    "\n",
    "# Replace ordinal rankings with numeric scores\n",
    "rank_mapping = {'1st (Best)': 1, '2nd': 2, '3rd': 3, '4th (Bad)': 4}\n",
    "data_cleaned.replace(rank_mapping, inplace=True)\n",
    "\n",
    "# Display the cleaned data to verify transformations\n",
    "data_cleaned = data_cleaned.dropna()\n",
    "\n",
    "data_cleaned.insert(0, \"humen number\", [1, 2, 3, 4, 5], True)\n",
    "\n",
    "data_cleaned"
   ]
  },
  {
   "cell_type": "code",
   "execution_count": 9,
   "metadata": {
    "ExecuteTime": {
     "end_time": "2024-04-30T06:08:29.566477Z",
     "start_time": "2024-04-30T06:08:29.535139Z"
    }
   },
   "outputs": [],
   "source": [
    "data_cleaned.to_csv('data/Human_Evaluation_Cleaned.csv', index=False)"
   ]
  },
  {
   "cell_type": "code",
   "execution_count": 13,
   "metadata": {
    "ExecuteTime": {
     "end_time": "2024-04-30T06:09:34.018290Z",
     "start_time": "2024-04-30T06:09:33.989743Z"
    }
   },
   "outputs": [],
   "source": [
    "from sklearn.preprocessing import LabelEncoder\n",
    "\n",
    "# Reshape the data from wide to long format\n",
    "long_format = pd.melt(data_cleaned, id_vars=['humen number'], var_name='question_model', value_name='rank')\n",
    "\n",
    "# Split the 'question_model' column into separate 'question' and 'model' columns\n",
    "long_format[['question', 'model']] = long_format['question_model'].str.rsplit('_', n=1, expand=True)\n",
    "long_format.drop(columns='question_model', inplace=True)\n",
    "\n",
    "# Convert 'question' and 'model' to categorical codes\n",
    "label_encoder_question = LabelEncoder()\n",
    "label_encoder_model = LabelEncoder()\n",
    "long_format['question'] = label_encoder_question.fit_transform(long_format['question'])\n",
    "long_format['model'] = label_encoder_model.fit_transform(long_format['model'])\n",
    "\n",
    "# View the restructured data\n",
    "long_format.to_csv('data/Human_Evaluation_Long.csv', index=False)\n",
    "# long_format"
   ]
  },
  {
   "cell_type": "code",
   "execution_count": 38,
   "metadata": {
    "ExecuteTime": {
     "end_time": "2024-04-30T06:55:32.360971Z",
     "start_time": "2024-04-30T06:55:32.350044Z"
    }
   },
   "outputs": [
    {
     "name": "stdout",
     "output_type": "stream",
     "text": [
      "     humen number  rank  question  model\n",
      "0               1   4.0         1      0\n",
      "1               2   3.0         1      0\n",
      "2               3   4.0         1      0\n",
      "3               4   4.0         1      0\n",
      "4               5   4.0         1      0\n",
      "..            ...   ...       ...    ...\n",
      "195             1   2.0         0      3\n",
      "196             2   2.0         0      3\n",
      "197             3   2.0         0      3\n",
      "198             4   1.0         0      3\n",
      "199             5   1.0         0      3\n",
      "\n",
      "[200 rows x 4 columns]\n"
     ]
    }
   ],
   "source": [
    "# Load your data\n",
    "data = pd.read_csv('data/Human_Evaluation_Long.csv')\n",
    "\n",
    "print(data)"
   ]
  },
  {
   "cell_type": "code",
   "outputs": [
    {
     "data": {
      "text/plain": "model\n3    1.40\n2    2.30\n1    2.45\n0    3.85\nName: rank, dtype: float64"
     },
     "execution_count": 39,
     "metadata": {},
     "output_type": "execute_result"
    }
   ],
   "source": [
    "# Calculate average rank for each model\n",
    "average_rank_per_model_level_1 = data[0:80].groupby('model')['rank'].mean().sort_values()\n",
    "\n",
    "average_rank_per_model_level_1"
   ],
   "metadata": {
    "collapsed": false,
    "ExecuteTime": {
     "end_time": "2024-04-30T06:55:33.671001Z",
     "start_time": "2024-04-30T06:55:33.664693Z"
    }
   },
   "execution_count": 39
  },
  {
   "cell_type": "code",
   "outputs": [
    {
     "data": {
      "text/plain": "model\n3    1.55\n2    2.30\n1    2.65\n0    3.50\nName: rank, dtype: float64"
     },
     "execution_count": 40,
     "metadata": {},
     "output_type": "execute_result"
    }
   ],
   "source": [
    "# Calculate average rank for each model\n",
    "average_rank_per_model_level_2 = data[80:160].groupby('model')['rank'].mean().sort_values()\n",
    "\n",
    "average_rank_per_model_level_2"
   ],
   "metadata": {
    "collapsed": false,
    "ExecuteTime": {
     "end_time": "2024-04-30T06:55:34.598746Z",
     "start_time": "2024-04-30T06:55:34.590382Z"
    }
   },
   "execution_count": 40
  },
  {
   "cell_type": "code",
   "outputs": [
    {
     "data": {
      "text/plain": "model\n3    1.6\n0    2.6\n2    2.6\n1    3.2\nName: rank, dtype: float64"
     },
     "execution_count": 41,
     "metadata": {},
     "output_type": "execute_result"
    }
   ],
   "source": [
    "# Calculate average rank for each model\n",
    "average_rank_per_model_level_3 = data[160:180].groupby('model')['rank'].mean().sort_values()\n",
    "\n",
    "average_rank_per_model_level_3"
   ],
   "metadata": {
    "collapsed": false,
    "ExecuteTime": {
     "end_time": "2024-04-30T06:55:35.799106Z",
     "start_time": "2024-04-30T06:55:35.792984Z"
    }
   },
   "execution_count": 41
  },
  {
   "cell_type": "code",
   "outputs": [
    {
     "data": {
      "text/plain": "model\n3    1.6\n2    2.6\n0    2.8\n1    3.0\nName: rank, dtype: float64"
     },
     "execution_count": 42,
     "metadata": {},
     "output_type": "execute_result"
    }
   ],
   "source": [
    "# Calculate average rank for each model\n",
    "average_rank_per_model_level_4 = data[180:200].groupby('model')['rank'].mean().sort_values()\n",
    "\n",
    "average_rank_per_model_level_4"
   ],
   "metadata": {
    "collapsed": false,
    "ExecuteTime": {
     "end_time": "2024-04-30T06:55:36.949962Z",
     "start_time": "2024-04-30T06:55:36.944792Z"
    }
   },
   "execution_count": 42
  },
  {
   "cell_type": "code",
   "outputs": [],
   "source": [],
   "metadata": {
    "collapsed": false
   }
  }
 ],
 "metadata": {
  "kernelspec": {
   "display_name": "vs2",
   "language": "python",
   "name": "python3"
  },
  "language_info": {
   "codemirror_mode": {
    "name": "ipython",
    "version": 3
   },
   "file_extension": ".py",
   "mimetype": "text/x-python",
   "name": "python",
   "nbconvert_exporter": "python",
   "pygments_lexer": "ipython3",
   "version": "3.11.5"
  }
 },
 "nbformat": 4,
 "nbformat_minor": 2
}
